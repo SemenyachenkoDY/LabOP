{
  "nbformat": 4,
  "nbformat_minor": 0,
  "metadata": {
    "colab": {
      "provenance": [],
      "authorship_tag": "ABX9TyOPdau3Lig0GjQLVeJYo7pE",
      "include_colab_link": true
    },
    "kernelspec": {
      "name": "python3",
      "display_name": "Python 3"
    },
    "language_info": {
      "name": "python"
    }
  },
  "cells": [
    {
      "cell_type": "markdown",
      "metadata": {
        "id": "view-in-github",
        "colab_type": "text"
      },
      "source": [
        "<a href=\"https://colab.research.google.com/github/SemenyachenkoDY/LabOP/blob/main/%D0%9B%D0%B0%D0%B1_8.ipynb\" target=\"_parent\"><img src=\"https://colab.research.google.com/assets/colab-badge.svg\" alt=\"Open In Colab\"/></a>"
      ]
    },
    {
      "cell_type": "markdown",
      "source": [
        "# Программирование на языке высокого уровня (Python).\n",
        "# https://www.yuripetrov.ru/edu/python\n",
        "# Задание task_08_02_01.\n",
        "# Выполнил: Семеняченко\n",
        "# Группа: АДЭУ-221\n"
      ],
      "metadata": {
        "id": "rGWA0whMIC18"
      }
    },
    {
      "cell_type": "markdown",
      "source": [
        "#8.2.1\n",
        "С клавиатуры в одной строке вводится произвольное количество вещественных чисел. Запишите их в файл, расположив каждое число на отдельной строке."
      ],
      "metadata": {
        "id": "x3Ewap5KH_6v"
      }
    },
    {
      "cell_type": "code",
      "execution_count": null,
      "metadata": {
        "id": "x5_q-CzoE9y_",
        "colab": {
          "base_uri": "https://localhost:8080/"
        },
        "outputId": "d9c31efd-2491-4d45-e7e6-d7138a0ec566"
      },
      "outputs": [
        {
          "name": "stdout",
          "output_type": "stream",
          "text": [
            "1 2 3 4\n"
          ]
        }
      ],
      "source": [
        "def load_data():\n",
        "    \"\"\"Вернуть список вещественных чисел, введенных с клавиатуры.\n",
        "\n",
        "    Числа вводятся в одной строке.\"\"\"\n",
        "    a = list(map(float, input().split()))\n",
        "    return a  \n",
        "\n",
        "\n",
        "def save_data(values, filename):\n",
        "    \"\"\"Записать данные в файл.\n",
        "\n",
        "    Параметры:\n",
        "        - values (list of float): список вещественных чисел;\n",
        "        - filename (str): имя файла.\n",
        "\n",
        "    Функция не обрабатывает исключения.\n",
        "    \"\"\"\n",
        "    f = open(filename, 'w')\n",
        "    for i in values:\n",
        "      f.write(str(i) + \"\\n\")\n",
        "    f.close()\n",
        "\n",
        "try:\n",
        "    filename = \"output.txt\"\n",
        "    values = load_data()\n",
        "    save_data(values, filename)\n",
        "\n",
        "except ValueError as err:\n",
        "    print(\"Числа были введены с ошибкой.\")\n",
        "\n",
        "except (OSError, IOError) as err:\n",
        "    print(\"Ошибка при сохранении файла с данными:\", err)\n",
        "\n",
        "except Exception as err:\n",
        "    print(\"Произошла ошибка!\")\n",
        "    print(\"Тип:\", type(err))\n",
        "    print(\"Описание:\", err)\n"
      ]
    },
    {
      "cell_type": "markdown",
      "source": [
        "#8.2.2\n",
        "Дан файл, полученный на выходе задачи № 8.2.1:\n",
        "\n",
        "* загрузите список чисел;\n",
        "\n",
        "* вычислите их сумму и максимум и допишите их в файл.\n",
        "\n",
        "Выполнив программу несколько раз, убедитесь, что новые значения учитываются при подсчете.\n",
        "\n",
        "Если файл прочитать не удается, программа должна прекратить чтение и сообщить об этом пользователю."
      ],
      "metadata": {
        "id": "a-yUSuZgIK0K"
      }
    },
    {
      "cell_type": "code",
      "source": [
        "def load_data(filename):\n",
        "    \"\"\"Загрузить список вещественных чисел из файла 'filename'.\n",
        "\n",
        "    Функция не обрабатывает исключения.\"\"\"\n",
        "    f = open(filename, \"r\")\n",
        "    lst = []\n",
        "    for i in f:\n",
        "      lst.append(float(i))\n",
        "    f.close()\n",
        "    return lst\n",
        "\n",
        "\n",
        "def append_to_file(values, filename):\n",
        "    \"\"\"Дописать данные в файл.\n",
        "\n",
        "    Параметры:\n",
        "        - values (list of float): список вещественных чисел;\n",
        "        - filename (str): имя файла.\n",
        "    \"\"\"\n",
        "    f = open(filename, \"a\")\n",
        "    f.write(str(sum(values)) + \"\\n\")\n",
        "    f.write(str(max(values)) + \"\\n\")\n",
        "    f.close()\n",
        "\n",
        "try:\n",
        "    filename = \"output.txt\"\n",
        "    values = load_data(filename)\n",
        "    append_to_file(values, filename)\n",
        "\n",
        "except FileNotFoundError as err:\n",
        "    print(\"Указанный файл не существует.\")\n",
        "\n",
        "except (IOError, ValueError) as err:\n",
        "    print(\"Ошибка при чтении/сохранении файла с данными:\", err)\n",
        "\n",
        "except Exception as err:\n",
        "    print(\"Произошла ошибка!\")\n",
        "    print(\"Тип:\", type(err))\n",
        "    print(\"Описание:\", err)\n",
        "\n"
      ],
      "metadata": {
        "id": "JxykuUwiIX-K"
      },
      "execution_count": null,
      "outputs": []
    },
    {
      "cell_type": "markdown",
      "source": [
        "#8.2.3\n",
        "Измените задачу № 8.2.2 так, чтобы вне зависимости от ошибок чтения файла, программа выполняла подсчет суммы и максимума."
      ],
      "metadata": {
        "id": "lsiXdaf-INdI"
      }
    },
    {
      "cell_type": "code",
      "source": [
        "def load_data(filename):\n",
        "    \"\"\"Загрузить список вещественных чисел из файла 'filename'.\n",
        "\n",
        "    Функция не обрабатывает исключения.\"\"\"\n",
        "    f = open(filename, \"r\")\n",
        "    lst = []\n",
        "    for i in f:\n",
        "      if i[0].isdigit():\n",
        "        for j in range(len(i)-1):\n",
        "          if i[j].isdigit() or i[j] == \".\":\n",
        "            pass\n",
        "          else:\n",
        "            break\n",
        "        else:\n",
        "          lst.append(float(i))\n",
        "    f.close()\n",
        "    return lst\n",
        "          \n",
        "\n",
        "    \n",
        "\n",
        "\n",
        "def append_to_file(values, filename):\n",
        "    \"\"\"Дописать данные в файл.\n",
        "\n",
        "    Параметры:\n",
        "        - values (list of float): список вещественных чисел;\n",
        "        - filename (str): имя файла.\n",
        "    \"\"\"\n",
        "    f = open(filename, \"a\")\n",
        "    f.write(str(sum(values)) + \"\\n\")\n",
        "    f.write(str(max(values)) + \"\\n\")\n",
        "    f.close()\n",
        "\n",
        "\n",
        "try:\n",
        "    filename = \"8.2.3.txt\"\n",
        "    values = load_data(filename)\n",
        "    print(values)\n",
        "\n",
        "    # Удалите комментарий и допишите код\n",
        "    append_to_file(values, filename)\n",
        "\n",
        "except FileNotFoundError as err:\n",
        "    print(\"Указанный файл не существует.\")\n",
        "\n",
        "except IOError as err:\n",
        "    print(\"Ошибка при чтении/сохранении файла с данными:\", err)\n",
        "\n",
        "except Exception as err:\n",
        "    print(\"Произошла ошибка!\")\n",
        "    print(\"Тип:\", type(err))\n",
        "    print(\"Описание:\", err)\n"
      ],
      "metadata": {
        "id": "yT3FabImIYzG",
        "colab": {
          "base_uri": "https://localhost:8080/"
        },
        "outputId": "5c9b7384-34c4-4fc3-c470-8a33d08e29f8"
      },
      "execution_count": null,
      "outputs": [
        {
          "output_type": "stream",
          "name": "stdout",
          "text": [
            "[1.0, 3.0, 1.1, 5.0]\n"
          ]
        }
      ]
    },
    {
      "cell_type": "markdown",
      "source": [
        "#8.2.4\n",
        "В файле записано стихотворение. Выведите его на экран, а также укажите, каких слов в нем больше: начинающихся на гласную или на согласную букву (регистр не учитывается)?"
      ],
      "metadata": {
        "id": "ijj6qnxSIOpm"
      }
    },
    {
      "cell_type": "code",
      "source": [
        "def load_text(filename):\n",
        "    \"\"\"Загрузить стихотворение из файла 'filename'.\n",
        "\n",
        "    Функция не обрабатывает исключения.\"\"\"\n",
        "    f = open(filename, \"r\")\n",
        "    txt = \" \"\n",
        "    for i in f:\n",
        "      txt += i\n",
        "    f.close()  \n",
        "    return txt.replace(\"\\n\", \" \")\n",
        "\n",
        "\n",
        "def letters_stats(text):\n",
        "    \"\"\"Вернуть словарь, содержащий количество гласных/согласных букв.\n",
        "\n",
        "    Параметры:\n",
        "        - text (str): стихотворение.\n",
        "\n",
        "    Результат:\n",
        "        - dict: словарь, содержащий количество гласных/согласных букв:\n",
        "                    {\n",
        "                        \"гласные\": 10,\n",
        "                        \"согласные\": 11\n",
        "                    }\n",
        "    \"\"\"\n",
        "    text = text.split()\n",
        "    dictionary = {\n",
        "                        \"гласные\": 0,\n",
        "                        \"согласные\": 0\n",
        "                    }\n",
        "    a = \"ауоиэыяюеё\"\n",
        "    b = \"бвгджзйклмнпрстфхцчшщ\"\n",
        "    for i in text:\n",
        "      if i[0].lower() in a:\n",
        "        dictionary[\"гласные\"] += 1\n",
        "      elif i[0].lower() in b:\n",
        "        dictionary[\"согласные\"] += 1\n",
        "    return dictionary\n",
        "\n",
        "\n",
        "\n",
        "# Добавьте в код обработку исключений\n",
        "try:\n",
        "  filename = input(\"Введите имя файла: \")\n",
        "  text = load_text(filename)\n",
        "\n",
        "  stats = letters_stats(text)\n",
        "  print(stats)\n",
        "except FileNotFoundError as err:\n",
        "    print(\"Указанный файл не существует.\")\n",
        "\n",
        "except IOError as err:\n",
        "    print(\"Ошибка при чтении/сохранении файла с данными:\", err)\n",
        "\n",
        "except Exception as err:\n",
        "    print(\"Произошла ошибка!\")\n",
        "    print(\"Тип:\", type(err))\n",
        "    print(\"Описание:\", err)\n"
      ],
      "metadata": {
        "id": "CYbgu9KqIZK8",
        "colab": {
          "base_uri": "https://localhost:8080/"
        },
        "outputId": "f8c7eea4-cde3-43d0-b7f7-f0522a8f6596"
      },
      "execution_count": null,
      "outputs": [
        {
          "output_type": "stream",
          "name": "stdout",
          "text": [
            "Введите имя файла: 8.2.4.txt\n",
            "{'гласные': 8, 'согласные': 13}\n"
          ]
        }
      ]
    },
    {
      "cell_type": "markdown",
      "source": [
        "#8.2.6\n",
        "![image.png](data:image/png;base64,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)"
      ],
      "metadata": {
        "id": "Os2rBEbzIQ26"
      }
    },
    {
      "cell_type": "code",
      "source": [
        "CORRUPTED = -1\n",
        "\n",
        "parties = {\n",
        "    1: \"Партия №1\", 2: \"Партия №2\", 3: \"Партия №3\",\n",
        "    4: \"Партия №4\", 5: \"Партия №5\", CORRUPTED: \"Испорчено\"\n",
        "}\n",
        "\n",
        "\n",
        "def load_votes(filename):\n",
        "    \"\"\"Загрузить результаты голосования.\n",
        "\n",
        "    Если отдельное значение не распознается (не является целым числом),\n",
        "    считается, что бланк испорчен (-1).\n",
        "\n",
        "    Параметры:\n",
        "        - filename (str): имя файла.\n",
        "\n",
        "    Результат:\n",
        "        - list of int\n",
        "\n",
        "    Функция не обрабатывает исключения.\"\"\"\n",
        "    f = open(filename, 'r')\n",
        "    b = f.readline().split()\n",
        "    f.close()\n",
        "    lst = []\n",
        "    for i in b:\n",
        "        if i.isdigit():\n",
        "            lst.append(int(i))\n",
        "        else:\n",
        "            lst.append(CORRUPTED)\n",
        "    return lst\n",
        "\n",
        "\n",
        "\n",
        "def parties_votes(parties, votes):\n",
        "    \"\"\"Вернуть информацию о голосах 'votes', отданных за партии 'parties'.\n",
        "    Испорченные бланки также присутствуют в результате.\n",
        "\n",
        "    Если среди голосов найдены партии, не присутствующие в списке\n",
        "    'parties', они записываются в группу \"Испорчено\".\n",
        "\n",
        "    Параметры:\n",
        "        - parties (dict): информация о партиях (номер голоса: название);\n",
        "        - votes (list): номера голосов.\n",
        "\n",
        "    Результат:\n",
        "        dict: название: кол-во отданных голосов.\"\"\"\n",
        "    dictionary={}\n",
        "    for i in parties:\n",
        "       dictionary[parties[i]]=0\n",
        "    for i in votes:\n",
        "      if i in parties:\n",
        "        dictionary[parties[i]] += 1\n",
        "      else:\n",
        "         dictionary['Испорчено'] += 1\n",
        "    return dictionary\n",
        "\n",
        "\n",
        "\n",
        "def print_results(votes_for_p):\n",
        "    \"\"\"Вывести результаты голосования в формате:\n",
        "\n",
        "    1. Партия №2 | 1111 | 58.21%\n",
        "    2. Партия №4 |  999 | 38.14%\n",
        "\n",
        "    Кол-во голосов и % выровнены по правому краю.\n",
        "\n",
        "    Параметры:\n",
        "        - votes_for_p (dict): результат функции parties_votes().\n",
        "    \"\"\"\n",
        "    sorted_dict = {}\n",
        "    a = sorted(votes_for_p.values(), reverse=True)\n",
        "    count = 0\n",
        "    for i in a:\n",
        "        for k in votes_for_p.keys():\n",
        "            if votes_for_p[k] == i:\n",
        "                sorted_dict[k] = votes_for_p[k]\n",
        "                if k != 'Испорчено':\n",
        "                    count += votes_for_p[k]\n",
        "                break\n",
        "    k = 1\n",
        "    for i in sorted_dict:\n",
        "        if i != 'Испорчено':\n",
        "            print(\n",
        "                '%3d.%10s | %4d | %5.2f' % (k, i, sorted_dict[i], round(100 * sorted_dict[i] / count, 2)) + '%')\n",
        "            k += 1\n",
        "\n",
        "\n",
        "try:\n",
        "  filename = input(\"Введите имя файла: \")\n",
        "\n",
        "  votes = load_votes(filename)\n",
        "  votes_for_p = parties_votes(parties, votes)\n",
        "  print_results(parties_votes(parties, votes))\n",
        "\n",
        "except FileNotFoundError as err:\n",
        "    print(\"Указанный файл не существует.\")\n",
        "\n",
        "except IOError as err:\n",
        "    print(\"Ошибка при чтении/сохранении файла с данными:\", err)\n",
        "\n",
        "except Exception as err:\n",
        "    print(\"Произошла ошибка!\")\n",
        "    print(\"Тип:\", type(err))\n",
        "    print(\"Описание:\", err)\n"
      ],
      "metadata": {
        "id": "o3I7SadvIZ6h",
        "colab": {
          "base_uri": "https://localhost:8080/"
        },
        "outputId": "57129b43-f51b-4682-c873-332110d3130f"
      },
      "execution_count": null,
      "outputs": [
        {
          "output_type": "stream",
          "name": "stdout",
          "text": [
            "Введите имя файла: votes.txt\n",
            "  1. Партия №3 |   27 | 28.42%\n",
            "  2. Партия №1 |   22 | 23.16%\n",
            "  3. Партия №2 |   20 | 21.05%\n",
            "  4. Партия №5 |   14 | 14.74%\n",
            "  5. Партия №4 |   12 | 12.63%\n"
          ]
        }
      ]
    }
  ]
}