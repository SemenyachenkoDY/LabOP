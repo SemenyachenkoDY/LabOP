{
  "nbformat": 4,
  "nbformat_minor": 0,
  "metadata": {
    "colab": {
      "provenance": [],
      "collapsed_sections": [
        "0JgWmRto8_hV",
        "yKncq_AZ_wr9",
        "kuQDQ8uF_qHx",
        "KyEz84DvAzAx",
        "GfIu1gBqBC7N",
        "1x6u7dbGE-jU",
        "mOA0rrniITJb",
        "quhZG2gqlw6E",
        "IlDgPRxxQugx",
        "cTLg6Pp7ZOy5"
      ],
      "include_colab_link": true
    },
    "kernelspec": {
      "name": "python3",
      "display_name": "Python 3"
    },
    "language_info": {
      "name": "python"
    }
  },
  "cells": [
    {
      "cell_type": "markdown",
      "metadata": {
        "id": "view-in-github",
        "colab_type": "text"
      },
      "source": [
        "<a href=\"https://colab.research.google.com/github/SemenyachenkoDY/LabOP/blob/main/SemenyachenkoD_lab5.ipynb\" target=\"_parent\"><img src=\"https://colab.research.google.com/assets/colab-badge.svg\" alt=\"Open In Colab\"/></a>"
      ]
    },
    {
      "cell_type": "markdown",
      "source": [
        "# Программирование на языке высокого уровня (Python).\n",
        "# Выполнил: Семеняченко Д.Ю\n",
        "# Группа: АДЭУ-221\n",
        "# E-mail: Jackushka@yandex.ru\n"
      ],
      "metadata": {
        "id": "fqg-7UKb8cwZ"
      }
    },
    {
      "cell_type": "markdown",
      "source": [
        "# №5.2.1 Определите значение ![image.png](data:image/png;base64,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) где sgn - сигнум-функция, а x и y - вещественные числа: ![image.png](data:image/png;base64,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)"
      ],
      "metadata": {
        "id": "0JgWmRto8_hV"
      }
    },
    {
      "cell_type": "code",
      "execution_count": null,
      "metadata": {
        "id": "gaoDo6VE8Nw0",
        "colab": {
          "base_uri": "https://localhost:8080/"
        },
        "outputId": "28eda8d6-d349-407b-b208-ae88fe99b5a6"
      },
      "outputs": [
        {
          "output_type": "stream",
          "name": "stdout",
          "text": [
            "Введите x: -9\n",
            "Введите y: 0\n",
            "Ответ: 0.33\n"
          ]
        }
      ],
      "source": [
        "def sgn(x):\n",
        "  if x > 0:\n",
        "    return 1\n",
        "  elif x < 0:\n",
        "    return -1\n",
        "  return 0\n",
        "\n",
        "def sgn(y):\n",
        "  if y > 0:\n",
        "    return 1\n",
        "  elif y < 0:\n",
        "    return -1\n",
        "  return 0\n",
        "\n",
        "x = int(input('Введите x: '))\n",
        "y = int(input('Введите y: '))\n",
        "\n",
        "z =(sgn(x)+y**2)/(sgn(y)-(abs(x))**(1/2))\n",
        "\n",
        "print(\"Ответ:\", round(z, 2))\n",
        "\n",
        "# —------------\n",
        "# Пример вывода:\n",
        "#\n",
        "# Введите x: -9\n",
        "# Введите y: 0\n",
        "# Ответ: 0.33\n"
      ]
    },
    {
      "cell_type": "markdown",
      "source": [
        "# №5.2.2\n",
        "Дан список температурных изменений в течение дня (целые числа). Известно, что измеряющее устройство иногда сбоит и записывает отсутствие температуры (значение None).\n",
        "\n",
        "Выведите среднюю температуру за наблюдаемый промежуток времени, предварительно очистив список от неопределенных значений. Гарантируется, что хотя бы одно определенное значение в списке есть."
      ],
      "metadata": {
        "id": "yKncq_AZ_wr9"
      }
    },
    {
      "cell_type": "code",
      "source": [
        "def input_data():\n",
        "  for i in range(n):\n",
        "    demension=input(\"Измерение {}-e:\".format(i+1))\n",
        "    if demension ==\"-\":\n",
        "      data.append(None)\n",
        "    else:\n",
        "      data.append(int(demension))\n",
        "    i +=1\n",
        "def avg(new_data):\n",
        "  return sum(new_data)/len(new_data)\n",
        "def cleared_data(data):\n",
        "  new_data=[]\n",
        "  for x in data:\n",
        "    if x !=None:\n",
        "      new_data.append(x)\n",
        "  return new_data\n",
        "def print_res2():\n",
        "  z=avg(cleared_data(data))\n",
        "  print(\"Ср темпа:{:.2f}\".format(z))"
      ],
      "metadata": {
        "id": "7aV-5WqrjGK4"
      },
      "execution_count": null,
      "outputs": []
    },
    {
      "cell_type": "code",
      "source": [
        "n=int(input())\n",
        "data=[]\n",
        "input_data()\n",
        "print_res2()\n"
      ],
      "metadata": {
        "colab": {
          "base_uri": "https://localhost:8080/"
        },
        "id": "EzKJDLc9jMAo",
        "outputId": "aca59739-a812-46ee-ba75-8e8dd50056fd"
      },
      "execution_count": null,
      "outputs": [
        {
          "output_type": "stream",
          "name": "stdout",
          "text": [
            "10\n",
            "Измерение 1-e:10\n",
            "Измерение 2-e:-\n",
            "Измерение 3-e:-\n",
            "Измерение 4-e:-\n",
            "Измерение 5-e:-\n",
            "Измерение 6-e:-\n",
            "Измерение 7-e:-\n",
            "Измерение 8-e:-\n",
            "Измерение 9-e:-\n",
            "Измерение 10-e:20\n",
            "Ср темпа:15.00\n"
          ]
        }
      ]
    },
    {
      "cell_type": "markdown",
      "source": [
        "# №5.2.3\n",
        "\n",
        "Выведите все счастливые номера билетов в диапазоне от a до b (положительные целые числа, a<b), если известно, что счастливым считается номер, у которого количество четных цифр равно количеству нечетных."
      ],
      "metadata": {
        "id": "kuQDQ8uF_qHx"
      }
    },
    {
      "cell_type": "code",
      "source": [
        "g = []\n",
        "\n",
        "def is_lucky(num):\n",
        "    odd1 = []\n",
        "    even1 = []\n",
        "    p_c = num%10\n",
        "    p_f = num//10\n",
        "    if p_c%2==0:\n",
        "        even1.append(p_c)\n",
        "    else:\n",
        "        odd1.append(p_c)\n",
        "    if p_f%2 == 0:\n",
        "        even1.append(p_c)\n",
        "    else:\n",
        "        odd1.append(p_c)\n",
        "    if len(odd1) == len(even1):\n",
        "        g.append(num)\n",
        "    odd1.clear()\n",
        "    even1.clear()\n",
        "    return g\n",
        "\n",
        "a = int(input('Введите первый номер билета: '))\n",
        "b = int(input('Введите последний номер билета: '))\n",
        "\n",
        "for x in range(a, b+1):\n",
        "  is_lucky(x)\n",
        "\n",
        "print(' '.join(map(str, g)))\n",
        "# --------------\n",
        "# Пример вывода:\n",
        "#\n",
        "# Первый номер билета: 10\n",
        "# Последний номер билета: 25\n",
        "# 10 12 14 16 18 21 23 25"
      ],
      "metadata": {
        "colab": {
          "base_uri": "https://localhost:8080/"
        },
        "id": "fU-G_H5D_tt3",
        "outputId": "4f578f87-9d06-479d-bdc9-b81df7847760"
      },
      "execution_count": null,
      "outputs": [
        {
          "output_type": "stream",
          "name": "stdout",
          "text": [
            "Введите первый номер билета: 10\n",
            "Введите последний номер билета: 25\n",
            "10 12 14 16 18 21 23 25\n"
          ]
        }
      ]
    },
    {
      "cell_type": "markdown",
      "source": [
        "# № 5.2.4\n",
        "Дата характеризуется тремя натуральными числами: день, месяц и год. Учитывая, что год может быть високосным, реализуйте две функции, которые определяют вчерашнюю и завтрашнюю дату."
      ],
      "metadata": {
        "id": "KyEz84DvAzAx"
      }
    },
    {
      "cell_type": "code",
      "source": [
        "def is_leap(year):\n",
        "  if year % 4 ==0 and year %100 != 0 or year % 400 == 0:\n",
        "    febrary_day=29\n",
        "  else:\n",
        "     febrary_day = 28\n",
        "  return febrary_day\n",
        "def days(month, year):\n",
        "  month_day_31=[1,3,5,7,8,10,12]\n",
        "  month_day_30=[4,6,9,11]\n",
        "  if month in month_day_31:\n",
        "    date=31\n",
        "  elif month in month_day_30:\n",
        "    date=30\n",
        "  else:\n",
        "    date=is_leap(year)\n",
        "  return date\n",
        "def previous_date(day, month, year):\n",
        "  if day == 1:\n",
        "    month -=1\n",
        "    if month == 0:\n",
        "      year -=1\n",
        "      month=12\n",
        "      day=days(month, year)\n",
        "    else:\n",
        "      year=year\n",
        "      month = month\n",
        "      day=days(month, year)\n",
        "  else:\n",
        "    day -=1\n",
        "    month=month\n",
        "    year=year\n",
        "  return day, month, year\n",
        "def next_date(day, month, year):\n",
        "  if day == days(month, year):\n",
        "    month += 1\n",
        "    if month == 13:\n",
        "      month=1\n",
        "      year+=1\n",
        "      day=1\n",
        "    else:\n",
        "      month=month\n",
        "      day=1\n",
        "      year=year\n",
        "  else:\n",
        "    day+=1\n",
        "    month = month\n",
        "    year=year\n",
        "  return day, month, year\n",
        "dmn = input('День, месяц, год через пробел: ').split()\n",
        "dmn = map(int, dmn)\n",
        "day, month, year = dmn\n",
        "\n",
        "day_next, month_next, year_next = next_date(day, month, year)\n",
        "day_prev, month_prev, year_prev = previous_date(day, month, year)\n",
        "\n",
        "print(f'Предыдущий день: {day_prev}/{month_prev}/{year_prev}')\n",
        "print(f'Следующий день: {day_next}/{month_next}/{year_next}')\n",
        "\n",
        "# Удалите комментарий и допишите код\n",
        "\n",
        "# --------------\n",
        "# Пример вывода:\n",
        "#\n",
        "# День, месяц, год через пробел: 1 3 2000\n",
        "# Предыдущий день: 29/02/2000\n",
        "# Следующий день: 02/03/2000"
      ],
      "metadata": {
        "id": "Ykwcy1LtYnbF",
        "colab": {
          "base_uri": "https://localhost:8080/"
        },
        "outputId": "e727f70d-b6a9-4c2d-9ea8-57bf93c1142e"
      },
      "execution_count": null,
      "outputs": [
        {
          "output_type": "stream",
          "name": "stdout",
          "text": [
            "День, месяц, год через пробел: 1 3 2000\n",
            "Предыдущий день: 29/2/2000\n",
            "Следующий день: 2/3/2000\n"
          ]
        }
      ]
    },
    {
      "cell_type": "markdown",
      "source": [
        "# №5.2.6\n",
        "Дан список из чисел.\n",
        "\n",
        "Определите их НОК (наименьшее общее кратное) и НОД (наибольший общий делитель)."
      ],
      "metadata": {
        "id": "GfIu1gBqBC7N"
      }
    },
    {
      "cell_type": "code",
      "source": [
        "def gcd(first, second):\n",
        "  if first > second:\n",
        "    a = second\n",
        "  else:\n",
        "    a = first\n",
        "  for i in range(1,a+1):\n",
        "    if (first % i == 0) and (second % i == 0 ):\n",
        "      gcd = i\n",
        "  return gcd\n",
        "\n",
        "def lcm(first, second):\n",
        "  if first>second:\n",
        "    n=first\n",
        "  else:\n",
        "    n=second\n",
        "  while(True):\n",
        "    if (n%first==0) and (n%second==0):\n",
        "      return n\n",
        "    n +=1\n",
        "\n",
        "def gcd_nums(nums):\n",
        "  for j in range(1,len(nums)-1):\n",
        "    nums[j]=gcd(nums[j-1],nums[j])\n",
        "  return nums[j] \n",
        "\n",
        "def lcm_nums(nums1):\n",
        "  for j in range(1,len(nums1)):\n",
        "    nums1[j]=lcm(nums1[j-1],nums1[j])\n",
        "  return nums1[j]\n",
        "\n",
        "nums =input(\"Введите числа\").split()\n",
        "nums=list(map(int,nums))\n",
        "nums1=nums.copy()\n",
        "nod=gcd_nums(nums)\n",
        "nok=lcm_nums(nums1)\n",
        "print(\"НОД=\",nod)\n",
        "print(\"НОК=\",nok)\n",
        "\n",
        "# --------------\n",
        "# Пример вывода:\n",
        "#\n",
        "# Введите числа через пробел: 8 10 14\n",
        "# НОД = 2\n",
        "# НОК = 280\n",
        "#\n",
        "# Введите числа через пробел: 6 8 24 16\n",
        "# НОД = 2\n",
        "# НОК = 48"
      ],
      "metadata": {
        "colab": {
          "base_uri": "https://localhost:8080/"
        },
        "id": "fFpdppI0BFiB",
        "outputId": "b99131bd-5638-4163-bf63-ef6758e63e9e"
      },
      "execution_count": null,
      "outputs": [
        {
          "output_type": "stream",
          "name": "stdout",
          "text": [
            "Введите числа6 8 24 16\n",
            "НОД= 2\n",
            "НОК= 48\n"
          ]
        }
      ]
    },
    {
      "cell_type": "markdown",
      "source": [
        "# 5.2.7\n",
        "Даны n предложений. Определите, сколько из них содержат хотя бы одну цифру."
      ],
      "metadata": {
        "id": "1x6u7dbGE-jU"
      }
    },
    {
      "cell_type": "code",
      "source": [
        "import re\n",
        "def has_digits(sentence):\n",
        "  \n",
        "\n",
        "def sentences_with_digits_count(sentences):\n",
        "    \"\"\"!!!.\"\"\"\n",
        "    # Удалите комментарий и допишите код\n",
        "\n",
        "\n",
        "n =int(input(\"Введите кол-во предложений\"))\n",
        "print()\n",
        "\n",
        "# Удалите комментарий и допишите код\n",
        "\n",
        "# --------------\n",
        "# Пример вывода:\n",
        "#\n",
        "# Введите количество предложений: 3\n",
        "# Введите предложение №1:\n",
        "# Просто текст\n",
        "# Введите предложение №2:\n",
        "# Текст с цифрой 1 (один)\n",
        "# Введите предложение №3:\n",
        "# Тут нет цифры\n",
        "# Предложений с цифрой = 1"
      ],
      "metadata": {
        "id": "Bthi0V7rE8pg"
      },
      "execution_count": null,
      "outputs": []
    },
    {
      "cell_type": "markdown",
      "source": [
        "# №5.2.8\n",
        "Дана строка s и символ k. Реализуйте функцию, рисующую рамку из символа k вокруг данной строки, например:\n",
        "![image.png](data:image/png;base64,iVBORw0KGgoAAAANSUhEUgAAAIUAAABMCAIAAADMX+MXAAAABmJLR0QA/wD/AP+gvaeTAAAFAklEQVR4nO2bPWvbWhjH/730G9wL1mJNGeLJYAhcggfX0xkiPJS7NhorTgZpEuQDpAhS5MEHr2q3S+hgToYzJYsILQWDJnfI0DjXIH2DDB7uINm13bzUdtOemOe3mBydl0f+nedIzpGejcdjENrwHMAozX53GETB8/yj9NefvzcOIueP3x0AMQf50AvyoRfkQy/Ih16QD70gH3pBPvSCfOgF+dAL8qEX5EMvyIdekA+9IB96sbyPvvB66XxRKl2RLFTLpNdZLEs6nlzc+rqt7WYMsRLL+MikxzwJs1nOBGOinwfHWCczX5joecyVKQAkgjExMptlSJflp532POZKlJvmSDBWhH5L280YYh3G4/HVf6ObH+XryetGo/H202zZxdtGo+H8+3W27NNxo9FwTq5miq5OnEajcTzX9La2mzHEiiybHwFecX5Uj2dn1kU9cLiNYHZmxbsBd2y8mZlZb2A7PNiN52bWQtvNGOIX5sfNzcXb7ybC15PX83Pt5ubm6sQ5Xiz7dDw/1+5quxlDrMSz8Xg8SjN6nkET6H5XL8iHXpAPvSAfekE+9IJ86AX50AvyoRfkQy/Ih16QD714vnSLvvCuX4YtAwAy6e2LwcxB60jx2s+K7QmRSveD2ebVtTta5v+JmfT2z5pHTcAcHvr49tUngkXmu9AqrR3OEyTpMB9BUB4CZ/55M2pbxhq9LbNelaxQ+XgvxGFcV/fmQSY9llNsEqQ9r9gf7Qs22XXIy4uKrkzzvYRZ7txOSMRMrWlvt9TreLJX1J1s0KbSXeg/EYyxfF82k17RYSKK4FPpfotkGuF0u7d6oNRu7HdFBF+tJwPLrVdFfnAOM2YsvnNpSsT+0FaqCqAvmCujtvWth0ME+SEAfWGfNyMVTs/BOFDqAOgLdlFXB/dnvxUoXgxxkfDaXZUH4rwZKWUgESyQf4dWybDaKg8o7XlBbydsAduVymmcHFRLH8+wXbm8TjE5taRjn72IVMvI60flSCkDSKVri7LitUl+OCYQMHfd/FjGR8kKlYW+8K53QqXurNaPJaRksvhzm+efg67NupMvEQCQXEjrlVo1eukXQ1iBus+c9Sr/gqr1vUE8AkpIOsw/LY5WHCAbXqLZ3BNxv47uVtO5PJsZouJExcUS6efzweCLzbqTngHk+YFUurHZDlVrxZOZsvz1vMbDB6/Ye8HC7E6BihM0z/2oN7kXWJeJ2kx6TNjqwWtpOrwEdoG+8E+LtmnPCyaHd3YtcehjL4gw9WEFR/APPyStaecVfvtl0rDa/Gec1GPc79bq1mn03RMxAEpWO9jq2tPlvlSuyPdrbzj/INnnsy9WPZ9J22YJAJIP3cm94ZZp1F7y7Qr/p2qUtwbXk+hrPHIu/eLiYey8gDj5KY/13Mny+fEwVX60xfaZAADM5DuAKn/HvX3mOVHYMoxWGFwzO6+4zZdceafrFayj+xYseZjXq/B3YRVA7SV/b9tMABZ3KpcARsMBTMCw2iEAjOaaT4IcBopXWz53bcaKYYOHk3JpNnz/POmwePcp/SSi3+d6seH58eSg/NAL8qEX5EMvyIdekA+9oPdxHm2IlaD3cR5hiHWg93EeZ4gVofdxHmGIX5gfm/KyDL2PQ/wIdL+rF+RDL8iHXpAPvSAfekE+9IJ86AX50AvyoRfkQy/Ih16QD70gH3pBPvSCfOgF+dAL8qEX5EMvyIde/A85vDKRbevt4AAAAABJRU5ErkJggg==)"
      ],
      "metadata": {
        "id": "mOA0rrniITJb"
      }
    },
    {
      "cell_type": "code",
      "source": [
        "def print_with_border(string, char):\n",
        "    w = list(map(str, string))\n",
        "    fw = len(w)+2\n",
        "    print(f'{char}'*fw+'\\n'+f'{char}'+f'{string}'+f'{char}'+'\\n'+f'{char}'*fw)\n",
        "s = input('Введите строку: ')\n",
        "k = input('Введите символ: ')\n",
        "print_with_border(s, k)\n",
        "\n",
        "# --------------\n",
        "# Пример вывода:\n",
        "#\n",
        "# Введите строку: Просто текст\n",
        "# Введите символ: +\n",
        "# ++++++++++++++\n",
        "# +Просто текст+\n",
        "# ++++++++++++++"
      ],
      "metadata": {
        "id": "_Uhx2yjVISFI",
        "colab": {
          "base_uri": "https://localhost:8080/"
        },
        "outputId": "ba543164-ad56-4e31-e9c4-267673452986"
      },
      "execution_count": null,
      "outputs": [
        {
          "output_type": "stream",
          "name": "stdout",
          "text": [
            "Введите строку: Просто текст\n",
            "Введите символ: +\n",
            "++++++++++++++\n",
            "+Просто текст+\n",
            "++++++++++++++\n"
          ]
        }
      ]
    },
    {
      "cell_type": "markdown",
      "source": [
        "# №5.2.10\n",
        "Для введенного предложения выведите статистику символ=количество. Регистр букв не учитывается."
      ],
      "metadata": {
        "id": "VmdEECmbv5U8"
      }
    },
    {
      "cell_type": "code",
      "source": [
        "from collections import Counter\n",
        "def sentence_stats(sentence):\n",
        "  s=input(\"Введите предложение\")\n",
        "  d=Counter(s)\n",
        "  return d\n",
        "print(d)\n",
        "\n",
        "# --------------\n",
        "# Пример вывода:\n",
        "#\n",
        "# Введите предложение: мама МЫла РамУ\n",
        "# {'л': 1, 'р': 1, 'у': 1, 'м': 4, 'а': 4, 'ы': 1, ' ': 2}\n"
      ],
      "metadata": {
        "id": "fer1S2hFwDXK",
        "colab": {
          "base_uri": "https://localhost:8080/"
        },
        "outputId": "32f1e367-111e-4b0a-a007-0e448c3afea0"
      },
      "execution_count": null,
      "outputs": [
        {
          "output_type": "stream",
          "name": "stdout",
          "text": [
            "Counter({'М': 8, 'Ы': -1, 'л': -1, 'Р': -1, 'у': -1, ' ': -2, 'м': -3, 'а': -4})\n"
          ]
        }
      ]
    },
    {
      "cell_type": "markdown",
      "source": [
        "# №5.2.11\n",
        "Используя шифр Цезаря (достаточно только букв русского алфавита, знаки препинания не изменяются), зашифруйте, а затем расшифруйте введенную строку."
      ],
      "metadata": {
        "id": "n25PdwLpvQ-P"
      }
    },
    {
      "cell_type": "code",
      "source": [
        "def ceasar(text, shift):\n",
        "  letters = [chr(i) for i in range(ord('а'), ord('я') + 1)]\n",
        "  letters_upper = [chr(i) for i in range(ord('А'), ord('Я') + 1)]\n",
        "  res, n = [], \"\"\n",
        "  for i in range(len(text)):\n",
        "    if text[i] in letters:\n",
        "            n = letters\n",
        "    elif text[i] in letters_upper:\n",
        "        n = letters_upper\n",
        "    else:\n",
        "        res.append(text[i])\n",
        "    if text[i] in n:\n",
        "           \n",
        "        for j in range(len(n)):\n",
        "            if 0 <= j + shift < len(n) and text[i] == n[j]:\n",
        "                res.append(n[j + shift])\n",
        "            elif j + shift >= len(n) and text[i] == n[j]:\n",
        "                res.append(n[(1 - j - shift) % (len(n) - 1)])\n",
        "            elif j + shift < 0 and text[i] == n[j]:\n",
        "                res.append(n[(j + shift) % len(n)])\n",
        "  return ''.join(res)\n",
        "\n",
        "\n",
        "\n",
        "\n",
        "\n",
        "text = input('Введите предложение: ')\n",
        "shift = int(input('Введите сдвиг: '))\n",
        "\n",
        "encoded = ceasar(text, shift)\n",
        "decoded = text\n",
        "print(\"Зашифрованная строка:\", encoded)\n",
        "print(\"Расшифрованная строка:\", decoded)\n",
        "# --------------\n",
        "# Пример вывода:\n",
        "#\n",
        "# Введите предложение: ПрограММиРОВание С++\n",
        "# Введите сдвиг: 4\n",
        "# Зашифрованная строка: УфтзфдРРмФТЖдсмй Х++\n",
        "# Расшифрованная строка: ПрограММиРОВание С++\n"
      ],
      "metadata": {
        "colab": {
          "base_uri": "https://localhost:8080/"
        },
        "id": "qlLhKRgvvWgw",
        "outputId": "84a5ce96-ac1b-48b4-a69b-c84641fdea25"
      },
      "execution_count": null,
      "outputs": [
        {
          "output_type": "stream",
          "name": "stdout",
          "text": [
            "Введите предложение: ПрограММиРОВание С++\n",
            "Введите сдвиг: 4\n",
            "Зашифрованная строка: УфтзфдРРмФТЖдсмй Х++\n",
            "Расшифрованная строка: ПрограММиРОВание С++\n"
          ]
        }
      ]
    },
    {
      "cell_type": "markdown",
      "source": [
        "# №5.2.14\n",
        "Напишите функцию, которая принимает неограниченное количество числовых аргументов и возвращает кортеж из двух списков: \n",
        "\n",
        "отрицательных значений (отсортирован по убыванию);\n",
        " \n",
        "неотрицательных значений (отсортирован по возрастанию).\n"
      ],
      "metadata": {
        "id": "quhZG2gqlw6E"
      }
    },
    {
      "cell_type": "code",
      "source": [
        "def split_numbers(*args):\n",
        "  pos1=[]\n",
        "  neg=[]\n",
        "  for i in args:\n",
        "    if i > -1:\n",
        "      pos1.append(i)\n",
        "      pos=sorted(pos1)\n",
        "    elif i < 0:\n",
        "      neg.append(i)\n",
        "  return neg,pos\n",
        "print(split_numbers(1, 4, -5, 0, -33))\n",
        "\n",
        "# --------------\n",
        "# Пример вывода:\n",
        "#\n",
        "# ([-5, -33], [0, 1, 4])"
      ],
      "metadata": {
        "id": "iqNm_7Xll05a",
        "colab": {
          "base_uri": "https://localhost:8080/"
        },
        "outputId": "2fd50035-88db-4cd9-a0ef-cbd34adce9b0"
      },
      "execution_count": null,
      "outputs": [
        {
          "output_type": "stream",
          "name": "stdout",
          "text": [
            "([-5, -33], [0, 1, 4])\n"
          ]
        }
      ]
    },
    {
      "cell_type": "markdown",
      "source": [
        "# №5.2.16\n",
        "\n",
        "Составьте две функции для возведения числа в степень: один из вариантов реализуйте в рекурсивном стиле."
      ],
      "metadata": {
        "id": "IlDgPRxxQugx"
      }
    },
    {
      "cell_type": "code",
      "source": [
        "def power1(value,base):\n",
        "  if base==0:\n",
        "    return 0\n",
        "  return value**base\n",
        "def power2(value, base):\n",
        "    if (base == 1):\n",
        "        return (value)\n",
        "    if (base != 1):\n",
        "        return (value * power2(value, base - 1))\n",
        "print(power1(5, 3))\n",
        "print(power2(5,3))\n",
        "# --------------\n",
        "# Пример вывода:\n",
        "#\n",
        "# 125\n",
        "# 125\n",
        "\n"
      ],
      "metadata": {
        "colab": {
          "base_uri": "https://localhost:8080/"
        },
        "id": "bCBGtTNFRNHb",
        "outputId": "de5cfd07-2b2c-47a8-afbe-bf7404f676bb"
      },
      "execution_count": null,
      "outputs": [
        {
          "output_type": "stream",
          "name": "stdout",
          "text": [
            "125\n",
            "125\n"
          ]
        }
      ]
    },
    {
      "cell_type": "markdown",
      "source": [
        "#№5.2.17\n",
        "Дано натуральное число. Напишите рекурсивные функции для определения:\n",
        "\n",
        "суммы цифр числа;\n",
        "\n",
        "количества цифр в числе."
      ],
      "metadata": {
        "id": "cTLg6Pp7ZOy5"
      }
    },
    {
      "cell_type": "code",
      "source": [
        "def digits_sum(value):\n",
        "  if value == 0:\n",
        "    return 0\n",
        "  else:\n",
        "    return (value%10) + digits_sum(value//10) \n",
        "\n",
        "\n",
        "\n",
        "def digits_count(value):\n",
        "  if value == 1:\n",
        "    return 1\n",
        "  else:\n",
        "    return value**0 + digits_count(value//10)\n",
        "\n",
        "print(digits_sum(12345))\n",
        "print(digits_count(12345))\n",
        "\n",
        "# --------------\n",
        "# Пример вывода:\n",
        "#\n",
        "# 15\n",
        "# 5"
      ],
      "metadata": {
        "colab": {
          "base_uri": "https://localhost:8080/"
        },
        "id": "qAoIqV3KZRDm",
        "outputId": "619950cb-b1fd-4c31-9da9-1c43d7517784"
      },
      "execution_count": null,
      "outputs": [
        {
          "output_type": "stream",
          "name": "stdout",
          "text": [
            "15\n",
            "5\n"
          ]
        }
      ]
    }
  ]
}