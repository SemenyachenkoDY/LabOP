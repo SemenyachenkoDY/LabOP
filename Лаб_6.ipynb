{
  "nbformat": 4,
  "nbformat_minor": 0,
  "metadata": {
    "colab": {
      "provenance": [],
      "authorship_tag": "ABX9TyOHkGHIwVfziESZP9IScvco",
      "include_colab_link": true
    },
    "kernelspec": {
      "name": "python3",
      "display_name": "Python 3"
    },
    "language_info": {
      "name": "python"
    }
  },
  "cells": [
    {
      "cell_type": "markdown",
      "metadata": {
        "id": "view-in-github",
        "colab_type": "text"
      },
      "source": [
        "<a href=\"https://colab.research.google.com/github/SemenyachenkoDY/LabOP/blob/main/%D0%9B%D0%B0%D0%B1_6.ipynb\" target=\"_parent\"><img src=\"https://colab.research.google.com/assets/colab-badge.svg\" alt=\"Open In Colab\"/></a>"
      ]
    },
    {
      "cell_type": "markdown",
      "source": [
        "#Вычислительная сложность алгоритмов\n",
        "https://www.yuripetrov.ru/edu/python\n",
        "\n",
        "Лабораторная работа\n",
        "\n",
        "Выполнил: Семеняченко Данил Юрьевич\n",
        "\n",
        "Группа: АДЭУ-221\n",
        "\n",
        "E-mail: Jackushka@yandex.ru"
      ],
      "metadata": {
        "id": "8N8FFzRAZViS"
      }
    },
    {
      "cell_type": "markdown",
      "source": [
        "# №6.2.1\n",
        "Что выполняет приведенная функция?\n",
        "\n",
        "Какова вычислительная сложность алгоритма (наихудшая оценка, O-нотацию)?"
      ],
      "metadata": {
        "id": "2Wt7kUNIZSB3"
      }
    },
    {
      "cell_type": "code",
      "execution_count": null,
      "metadata": {
        "colab": {
          "base_uri": "https://localhost:8080/"
        },
        "id": "xsbY_-R7XhOV",
        "outputId": "e76d9dd2-7c22-41af-d5c6-c1ef1b756a76"
      },
      "outputs": [
        {
          "output_type": "execute_result",
          "data": {
            "text/plain": [
              "[-2, -2, -2, 1, 1, 2, 2, 2, 2, 2, 3, 3, 3, 4, 4, 5, 65]"
            ]
          },
          "metadata": {},
          "execution_count": 1
        }
      ],
      "source": [
        "def foo(a):\n",
        "  \"\"\"\n",
        "  Вводная переменная - список.\n",
        "  Функция сортирует список от меньшего значения к большему.\n",
        "\n",
        "  Общая сложность: O(N^2)\n",
        "  \"\"\"\n",
        "  for i in range(len(a), 0, -1): # O(N) + O(1) = O(N)\n",
        "    for j in range(1, i): # O(N)\n",
        "      if a[j-1] > a[j]: # O(1) + O(1) = 2*O(1) = O(1)\n",
        "        a[j-1], a[j] = a[j], a[j-1] # O(1) + O(1) = 2*O(1) = O(1)\n",
        "  return a # O(1)\n",
        "\n",
        "# O(N) * O(N) + O(1) + O(1) + O(1) = O(N^2) + 3*O(1) = O(N^2)\n",
        "\n",
        "a = [1, 2, 3, 4, 2, 1, 3, 4, 3, 5, -2, -2, 2, -2, 65, 2, 2]\n",
        "foo(a)"
      ]
    },
    {
      "cell_type": "markdown",
      "source": [
        "# №6.2.2\n",
        "\n",
        "Что выполняет приведенная функция?\n",
        "\n",
        "Какова вычислительная сложность алгоритма (наихудшая оценка, O-нотацию)?"
      ],
      "metadata": {
        "id": "SEgmNn5zb_31"
      }
    },
    {
      "cell_type": "code",
      "source": [
        "def foo(i):\n",
        "  \"\"\"\n",
        "  Вводная переменная - целое число.\n",
        "  Функция преобразует integer (целое число) в string (строка).\n",
        "\n",
        "  N = 1\n",
        "  Общая сложность: O(N)\n",
        "  \"\"\"\n",
        "  digits = \"0123456789\" # O(1)\n",
        "  if i == 0: # 2*O(1)\n",
        "    return \"0\" # O(1)\n",
        "  result = \"\" # O(1)\n",
        "  while i > 0: # O(N) + O(1) = O(N)\n",
        "    result = digits[i%10] + result # O(1) + O(1) + O(1) = O(1)\n",
        "    i = i // 10 # O(1) + O(1) = O(1)\n",
        "  return result # O(1)\n",
        "\n",
        "# O(1) + O(1) + O(N) * O(1) = 2*O(1) + O(N) = O(1) + O(N) = O(N)"
      ],
      "metadata": {
        "id": "8aKY8aFEcAF4"
      },
      "execution_count": null,
      "outputs": []
    },
    {
      "cell_type": "markdown",
      "source": [
        "# №6.2.3\n",
        "\n",
        "Что выполняет приведенная функция?\n",
        "\n",
        "Какова вычислительная сложность алгоритма (наихудшая оценка, O-нотацию)?"
      ],
      "metadata": {
        "id": "mvQm6RETcMwZ"
      }
    },
    {
      "cell_type": "code",
      "source": [
        "def foo(s):\n",
        "  \"\"\"\n",
        "  Вводная переменная - строка.\n",
        "  Функция вытаскивает все цифры из строки и преобразует их в целое число\n",
        "\n",
        "  N = len(s)\n",
        "  Общая сложность: O(N^2)\n",
        "  \"\"\"\n",
        "  val = 0 # O(1)\n",
        "  for c in s: # O(N)\n",
        "    if c.isdigit(): # O(N)\n",
        "      val += int(c) # O(1) + O(1) = O(1)\n",
        "  return val # O(1)\n",
        "\n",
        "# O(1) + O(N) * O(N) * O(1) = O(N^2)\n"
      ],
      "metadata": {
        "id": "cmxYkaDEcNFB"
      },
      "execution_count": null,
      "outputs": []
    },
    {
      "cell_type": "markdown",
      "source": [
        "# №6.2.4\n",
        "\n",
        "Что выполняет приведенная функция?\n",
        "\n",
        "Какова вычислительная сложность алгоритма (наихудшая оценка, O-нотацию)?*Курсив*"
      ],
      "metadata": {
        "id": "dNTUEZLecNS7"
      }
    },
    {
      "cell_type": "code",
      "source": [
        "def foo(n):\n",
        "  \"\"\"\n",
        "  Вводная переменная - целое число.\n",
        "  Функция находит все простые числа от 0 до указанного числа.\n",
        "\n",
        "  N = 1\n",
        "  Общая сложность: O(N^2)\n",
        "  \"\"\"\n",
        "  res = [] # O(1)\n",
        "  for i in range(1, n + 1): # O(N) + O(1) = O(N)\n",
        "    divisors = 0 # O(1)\n",
        "    j = 2 # O(1)\n",
        "    while j < i and divisors == 0: # O(N) + O(1) + O(1) = O(N) + 2*O(1) = O(N)\n",
        "      if i % j == 0: # O(1) + O(1) = 2*O(1) = O(1)\n",
        "          divisors += 1 # O(1)\n",
        "      j += 1 # O(1)\n",
        "    if divisors == 0: # O(1) + O(1) = 2*O(1) = O(1)\n",
        "      res.append(i) # O(1)\n",
        "\n",
        "  return res # O(1)\n",
        "\n",
        "# O(1) + O(N) * (2*O(1) + O(N) * 2*O(1) * O(1)) = O(N^2)"
      ],
      "metadata": {
        "id": "51MVrVgfcNe1"
      },
      "execution_count": null,
      "outputs": []
    },
    {
      "cell_type": "markdown",
      "source": [
        "# №6.2.5\n",
        "\n",
        "Что выполняет приведенная функция?\n",
        "\n",
        "Какова вычислительная сложность алгоритма (наихудшая оценка, O-нотацию)?"
      ],
      "metadata": {
        "id": "kO9bptzUcPiZ"
      }
    },
    {
      "cell_type": "code",
      "source": [
        "def foo(nums):\n",
        "  \"\"\"\n",
        "  Вводная переменная - список.\n",
        "  Проверяет список на наличие четных цифр внутри него.\n",
        "  \n",
        "  N = len(nums)\n",
        "  Общая сложность: O(N)\n",
        "  \"\"\"\n",
        "  for x in nums: # O(N)\n",
        "    if x % 2 == 0: # O(1) + O(1) = 2*O(1) = O(1)\n",
        "      return True # O(1)\n",
        "  else:\n",
        "    return False # O(1)\n",
        "\n",
        "# O(N) * O(1) * O(1) = O(N)"
      ],
      "metadata": {
        "id": "ARLlRNoYcP1h"
      },
      "execution_count": null,
      "outputs": []
    },
    {
      "cell_type": "markdown",
      "source": [
        "# №6.2.6\n",
        "\n",
        "Что выполняет приведенная функция?\n",
        "\n",
        "Какова вычислительная сложность алгоритма (наихудшая оценка, O-нотацию)?"
      ],
      "metadata": {
        "id": "q-blYjKvcTT-"
      }
    },
    {
      "cell_type": "code",
      "source": [
        "def foo(nums):\n",
        "  \"\"\"\n",
        "  Вводная переменная - список.\n",
        "  Выводит сумму первого элемента списка и последнего, возведенного в 2-ю степень.\n",
        "\n",
        "  N = len(nums)\n",
        "  Общая сложность: O(1)\n",
        "  \"\"\"\n",
        "  return (nums[0] + nums[-1] ** 2) # O(1) + O(1) = 2*O(1) = O(1)\n",
        "\n",
        "# O(1) + O(1) = 2*O(1) = O(1)"
      ],
      "metadata": {
        "id": "mo2HVZMycTf8"
      },
      "execution_count": null,
      "outputs": []
    },
    {
      "cell_type": "markdown",
      "source": [
        "# №6.2.7\n",
        "\n",
        "Что выполняет приведенная функция?\n",
        "\n",
        "Какова вычислительная сложность алгоритма (наихудшая оценка, O-нотацию)?"
      ],
      "metadata": {
        "id": "SYcSFZBIcXd0"
      }
    },
    {
      "cell_type": "code",
      "source": [
        "def foo(low, high):\n",
        "  \"\"\"\n",
        "  Вводный переменные - целые числа.\n",
        "  Угадывает загаданное число пользователя.\n",
        "\n",
        "  N = 2\n",
        "  Общая сложность: O(N)\n",
        "  \"\"\"\n",
        "  guessing = True # O(1)\n",
        "  while guessing: # O(N)\n",
        "    guess = (low + high) // 2 # O(1) + O(1) = 2*O(1) = O(1)\n",
        "    print(\"Загаданное число {0}?\".format(guess)) # O(1)\n",
        "    pointer = input(\n",
        "      \"Введите '+', если Ваше число меньше.\\n\"\n",
        "      \"Введите '-' если Ваше число больше.\\n\"\n",
        "      \"Введите '=', если я угадал.\\n\").lower() # O(1)\n",
        "    if pointer == \"+\": # O(len(pointer) + O(1) = O(1) + O(1) = 2*O(1) = O(1)\n",
        "      high = guess # O(1)\n",
        "    elif pointer == \"-\": # O(len(pointer) + O(1) = O(1) + O(1) = 2*O(1) = O(1)\n",
        "      low = guess # O(1)\n",
        "    elif pointer == \"=\": # O(len(pointer) + O(1) = O(1) + O(1) = 2*O(1) = O(1)\n",
        "      guessing = False # O(1)\n",
        "    else:\n",
        "      print(\"Введите '+', '-' или '='.\") # O(1)\n",
        "\n",
        "  return guess # O(1)\n",
        "\n",
        "# O(1) + O(N) * (O(1) + O(1) + O(1) + 3*O(1)*O(1)) = O(1) + O(N) * 6*O(1) = O(N)\n",
        "\n",
        "low, high = 0, 100\n",
        "print(\"Пожалуйста, загадайте число от {0} до {1}!\".format(low, high))\n",
        "guess = foo(low, high)\n",
        "print(\"Игра окончена, Вы загадали число: {0}.\".format(guess))"
      ],
      "metadata": {
        "id": "82GxRbQKcXvK"
      },
      "execution_count": null,
      "outputs": []
    }
  ]
}