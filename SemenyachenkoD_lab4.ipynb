{
  "cells": [
    {
      "cell_type": "markdown",
      "metadata": {
        "id": "view-in-github",
        "colab_type": "text"
      },
      "source": [
        "<a href=\"https://colab.research.google.com/github/SemenyachenkoDY/LabOP/blob/main/SemenyachenkoD_lab4.ipynb\" target=\"_parent\"><img src=\"https://colab.research.google.com/assets/colab-badge.svg\" alt=\"Open In Colab\"/></a>"
      ]
    },
    {
      "cell_type": "markdown",
      "metadata": {
        "id": "T_3awxdw4XBW"
      },
      "source": [
        "\n",
        "#Выполнил: Семенченко Данил Юрьевич\n",
        "#Группа: АДЭУ-221\n",
        "#E-mail: Jackushka@yandex.ru"
      ]
    },
    {
      "cell_type": "markdown",
      "metadata": {
        "id": "n1cC7eZN4iFt"
      },
      "source": [
        "# №4.2.1 \n",
        "Рассчитать значение f при заданном значении вещественного числа x:\n",
        "![image.png](data:image/png;base64,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)\n",
        "При выводе на экран оставьте 2 знака после запятой."
      ]
    },
    {
      "cell_type": "code",
      "execution_count": null,
      "metadata": {
        "colab": {
          "background_save": true,
          "base_uri": "https://localhost:8080/"
        },
        "id": "wia5Z9V34hkx",
        "outputId": "bb6ca964-1115-4134-fa77-e86f5115d7cc"
      },
      "outputs": [
        {
          "name": "stdout",
          "output_type": "stream",
          "text": [
            "Получившийся результат:  103.16\n"
          ]
        }
      ],
      "source": [
        "x = float(input())\n",
        "\n",
        "if x >= 0:\n",
        "    f = (x**(1/2))+(x**2)\n",
        "else:\n",
        "    f = 1/x\n",
        "\n",
        "print('Получившийся результат: ', round(f, 2))\n",
        "\n",
        "# --------------\n",
        "# Пример вывода:\n",
        "#\n",
        "# Введите число x: -10\n",
        "# f = -0.10\n",
        "\n",
        "# Введите число x: 0\n",
        "# f = 0.00\n",
        "\n",
        "# Введите число x: 10\n",
        "# f = 103.16\n"
      ]
    },
    {
      "cell_type": "markdown",
      "metadata": {
        "id": "1cW_FXP-5IAu"
      },
      "source": [
        "# №4.2.2\n",
        "Определите максимальное и минимальное значения из двух различных целых чисел."
      ]
    },
    {
      "cell_type": "code",
      "execution_count": null,
      "metadata": {
        "colab": {
          "base_uri": "https://localhost:8080/"
        },
        "id": "7JMv7Y6s5NSJ",
        "outputId": "1506644b-525f-4148-f663-3e20262306b1"
      },
      "outputs": [
        {
          "output_type": "stream",
          "name": "stdout",
          "text": [
            "Первое число: 100\n",
            "Второе число: -1\n",
            "максимум 100 минимум -1\n"
          ]
        }
      ],
      "source": [
        "a = int(input(\"Первое число: \"))\n",
        "b = int(input(\"Второе число: \"))\n",
        "if a != b:\n",
        "    if a > b:\n",
        "        print('максимум',a,'минимум',b)\n",
        "    else:\n",
        "        print('максимум',b,'минимум',a)\n",
        "else:\n",
        "      print('максимум',a,'минимум',b)\n",
        "# --------------\n",
        "# Пример вывода:\n",
        "#\n",
        "# Введите первое число: 1\n",
        "# Введите второе число: 2\n",
        "# Максимум: 2, минимум: 1\n",
        "\n",
        "# Введите первое число: 5\n",
        "# Введите второе число: 5\n",
        "# Максимум: 5, минимум: 5\n",
        "\n",
        "# Введите первое число: 100\n",
        "# Введите второе число: -1\n",
        "# Максимум: 100, минимум: -1\n",
        "\n"
      ]
    },
    {
      "cell_type": "markdown",
      "metadata": {
        "id": "ngtU4De-5UYf"
      },
      "source": [
        " # №4.2.3\n",
        " Вася пытается высунуть голову в форточку размерами a и b см. Приняв условно, что его голова - круглая диаметром d см, определите, сможет ли Вася сделать это. Для прохождения головы в форточку необходим зазор в 1 см. с каждой стороны.\n",
        "\n",
        "Все величины - целые числа."
      ]
    },
    {
      "cell_type": "code",
      "execution_count": null,
      "metadata": {
        "colab": {
          "base_uri": "https://localhost:8080/"
        },
        "id": "fKaYu4py5Z1J",
        "outputId": "d8974c88-a53d-4623-d97f-c9cf51b660f5"
      },
      "outputs": [
        {
          "name": "stdout",
          "output_type": "stream",
          "text": [
            "Введите значение ширины форточки: 6\n",
            "Введите значение высоты форточки: 7\n",
            "Введите значение диаметра головы мальчика: 4\n",
            "Да.\n"
          ]
        }
      ],
      "source": [
        "a= int(input('Введите значение ширины форточки: '))\n",
        "b = int(input('Введите значение высоты форточки: '))\n",
        "c = int(input('Введите значение диаметра головы мальчика: '))\n",
        "\n",
        "if ((a or b or c) < 0):\n",
        "    print('Ошибка. Невозможно выполнить скрипт. Вы ввели отрицательное значение.')\n",
        "else:\n",
        "    if ((a-1>=c) and (b-1>=c)):\n",
        "        print('Да.')\n",
        "    else:\n",
        "        print('Нет.')\n",
        "\n",
        "# --------------\n",
        "# Пример вывода:\n",
        "#\n",
        "# Ширина форточки: 5\n",
        "# Высота форточки: 6\n",
        "# Диаметр головы: 6\n",
        "# Нет\n",
        "\n",
        "# Ширина форточки: 6\n",
        "# Высота форточки: 7\n",
        "# Диаметр головы: 4\n",
        "# Да\n"
      ]
    },
    {
      "cell_type": "markdown",
      "metadata": {
        "id": "d3BktptL5jXz"
      },
      "source": [
        "# №4.2.4\n",
        "Известны год и номер месяца сегодняшнего дня, а также год и номер месяца рождения человека (нумерация месяцев с 1: январь - 1 и т.д.). Определите возраст человека (число полных лет)."
      ]
    },
    {
      "cell_type": "code",
      "execution_count": null,
      "metadata": {
        "colab": {
          "base_uri": "https://localhost:8080/"
        },
        "id": "kgQ7ISpX6Gco",
        "outputId": "39fc7485-c496-4b63-e588-2cad364ca296"
      },
      "outputs": [
        {
          "name": "stdout",
          "output_type": "stream",
          "text": [
            "Введите текущий год: 2017\n",
            "Введите текущий месяц: 5\n",
            "Введите год рождения: 2000\n",
            "Введите месяц рождения: 1\n",
            "Число полных лет: 17\n"
          ]
        }
      ],
      "source": [
        "y_today = int(input('Введите текущий год: '))\n",
        "m_today = int(input('Введите текущий месяц: '))\n",
        "\n",
        "year = int(input('Введите год рождения: '))\n",
        "month= int(input('Введите месяц рождения: '))\n",
        "\n",
        "age = y_today-year\n",
        "\n",
        "if (m_today or month)<=0:\n",
        "    print('Невозможно выполнить скрипт.')\n",
        "else:\n",
        "    if month>m_today:\n",
        "        print('Число полных лет:', age-1)\n",
        "    else:\n",
        "        print('Число полных лет:', age)\n",
        "# --------------\n",
        "# Пример вывода:\n",
        "#\n",
        "# Введите текущий год: 2017\n",
        "# Введите текущий месяц: 5\n",
        "# Введите год рождения: 2000\n",
        "# Введите месяц рождения: 1\n",
        "# Число полных лет:  17\n",
        "#\n",
        "# Введите текущий год: 2015\n",
        "# Введите текущий месяц: 6\n",
        "# Введите год рождения: 2010\n",
        "# Введите месяц рождения: 8\n",
        "# Число полных лет:  4\n",
        "#\n",
        "# Введите текущий год: 2020\n",
        "# Введите текущий месяц: 5\n",
        "# Введите год рождения: 2000\n",
        "# Введите месяц рождения: 5\n",
        "# Число полных лет:  20\n"
      ]
    },
    {
      "cell_type": "markdown",
      "metadata": {
        "id": "Q1kiiAtZ5yZk"
      },
      "source": [
        "# №4.2.5\n",
        "\n",
        "Дана точка с целыми ненулевыми координатами (x;y). Определить номер четверти координатной плоскости, которой она принадлежит."
      ]
    },
    {
      "cell_type": "code",
      "execution_count": null,
      "metadata": {
        "colab": {
          "base_uri": "https://localhost:8080/"
        },
        "id": "5bd9LGFj537E",
        "outputId": "8ccf0938-00d0-4e7d-ca31-0536961d351e"
      },
      "outputs": [
        {
          "name": "stdout",
          "output_type": "stream",
          "text": [
            "5\n",
            "7\n",
            "Точка находится в 1-й четверти.\n"
          ]
        }
      ],
      "source": [
        "x = int(input())\n",
        "y = int(input())\n",
        "\n",
        "if (x>0 and y>0):\n",
        "    print('Точка находится в 1-й четверти.')\n",
        "elif (x<0 and y>0):\n",
        "    print('Точка находится во 2-й четверти.')\n",
        "elif (x<0 and y<0):\n",
        "    print('Точка находится в 3-й четверти.')\n",
        "elif (x>0 and y<0):\n",
        "    print('Точка находится в 4-й четверти.')\n",
        "elif (x==0 and y==0):\n",
        "    print('Точка находится на пересечении осей x и y.')\n",
        "elif x==0:\n",
        "    print('Точка находится на оси x.') \n",
        "elif y==0:\n",
        "    print('Точка находится на оси y.') \n",
        "\n",
        "# --------------\n",
        "# Пример вывода:\n",
        "#\n",
        "# Введите координату x: 5\n",
        "# Введите координату y: 7\n",
        "# 1-я четверть"
      ]
    },
    {
      "cell_type": "markdown",
      "metadata": {
        "id": "PrgUSDkUFudP"
      },
      "source": [
        "# №4.2.6\n",
        "Даны вещественные числа a, b, c (a≠0).\n",
        "\n",
        "Решите уравнение ax2+bx+c=0. При выводе значений оставьте 1 знак после запятой"
      ]
    },
    {
      "cell_type": "code",
      "execution_count": null,
      "metadata": {
        "colab": {
          "base_uri": "https://localhost:8080/"
        },
        "id": "U0_uSBOPFyQG",
        "outputId": "0100dd4e-6de7-48e0-d339-397ab563a4c4"
      },
      "outputs": [
        {
          "output_type": "stream",
          "name": "stdout",
          "text": [
            "a= 1\n",
            "b= 2\n",
            "c= 1\n",
            "x =  -1.0\n"
          ]
        }
      ],
      "source": [
        "a = float(input('a= '))\n",
        "b = float(input('b= '))\n",
        "c = float(input('c= '))\n",
        "\n",
        "D = ((b**2)-(4*a*c))\n",
        "if D<0:\n",
        "    print('Нет решения.')\n",
        "elif D==0:\n",
        "    x1 = ((-1*b)/2*a)\n",
        "    print('x = ', x1)\n",
        "elif D>0:\n",
        "    x2 = (((-1*b)+(D**(1/2)))/2*a)\n",
        "    x1 = (((-1*b)-(D**(1/2)))/2*a)\n",
        "    print('x1 =',x1,'x2 =',x2)\n",
        "# --------------\n",
        "# Пример вывода:\n",
        "#\n",
        "# a = 1\n",
        "# b = 2\n",
        "# c = 3\n",
        "# Решений нет\n",
        "#\n",
        "# a = 1\n",
        "# b = 2\n",
        "# c = 1\n",
        "# x = -1.0\n",
        "#\n",
        "# a = 1\n",
        "# b = 3\n",
        "# c = -4\n",
        "# x1 = -4.0, x2 = 1.0"
      ]
    },
    {
      "cell_type": "markdown",
      "metadata": {
        "id": "PEBpxwLZQrbc"
      },
      "source": [
        "# №4.2.7\n",
        "Дана непустая последовательность целых чисел, оканчивающаяся нулем. Найти сумму и количество введенных чисел."
      ]
    },
    {
      "cell_type": "code",
      "execution_count": null,
      "metadata": {
        "colab": {
          "base_uri": "https://localhost:8080/"
        },
        "id": "6xCQicmiQrb5",
        "outputId": "ba589807-b4f2-461a-b0fd-cd09b289b9fe"
      },
      "outputs": [
        {
          "output_type": "stream",
          "name": "stdout",
          "text": [
            "1\n",
            "2\n",
            "3\n",
            "4\n",
            "0\n",
            "Сумма =  10\n",
            "Количество =  4\n"
          ]
        }
      ],
      "source": [
        "nums_s = 0 \n",
        "nums_c = 0  \n",
        "\n",
        "j = int(input())\n",
        "a = []\n",
        "\n",
        "while j != 0:\n",
        "    nums_c = nums_c+1\n",
        "    a.append(j)\n",
        "    nums_s = nums_s+j\n",
        "    j = int(input())\n",
        "\n",
        "print('Сумма = ', nums_s)\n",
        "print('Количество = ',nums_c)\n",
        "# --------------\n",
        "# Пример вывода:\n",
        "#\n",
        "# Введите 1-е число: 1\n",
        "# Введите 2-е число: 2\n",
        "# Введите 3-е число: 3\n",
        "# Введите 4-е число: 4\n",
        "# Введите 5-е число: 0\n",
        "# Сумма = 10\n",
        "# Количество = 4\n",
        "#\n",
        "# Введите 1-е число: 0\n",
        "# Сумма = 0\n",
        "# Количество = 0"
      ]
    },
    {
      "cell_type": "markdown",
      "metadata": {
        "id": "-IqKfZUHQr1i"
      },
      "source": [
        "# №4.2.8\n",
        "Дано число n. Из чисел 0,5,10,15,20,25,... напечатать те, которые не превышают n."
      ]
    },
    {
      "cell_type": "code",
      "execution_count": null,
      "metadata": {
        "colab": {
          "base_uri": "https://localhost:8080/"
        },
        "id": "j9Gustg7Qr1j",
        "outputId": "6faeb166-b762-47cb-e654-78454ff583f0"
      },
      "outputs": [
        {
          "output_type": "stream",
          "name": "stdout",
          "text": [
            "Введите число n: 12\n",
            "[0, 5, 10]\n"
          ]
        }
      ],
      "source": [
        "n = int(input('Введите число n: '))\n",
        "j = 0\n",
        "a = list()\n",
        "a.append(j)\n",
        "while j<=n:\n",
        "    j = j+5\n",
        "    a.append(j) \n",
        "a.pop()\n",
        "print(a)\n",
        "# --------------\n",
        "# Пример вывода:\n",
        "#\n",
        "# n = 0\n",
        "# 0\n",
        "#\n",
        "# n = 10\n",
        "# 0\n",
        "# 5\n",
        "# 10\n",
        "#\n",
        "# n = 12\n",
        "# 0\n",
        "# 5\n",
        "# 10"
      ]
    },
    {
      "cell_type": "markdown",
      "metadata": {
        "id": "o5HVvgcRQsSx"
      },
      "source": [
        "# №4.2.9\n",
        "Дано вещественное число a. Найдите наименьшее натуральное n, для которого верно![image.png](data:image/png;base64,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)"
      ]
    },
    {
      "cell_type": "code",
      "execution_count": null,
      "metadata": {
        "colab": {
          "base_uri": "https://localhost:8080/"
        },
        "id": "La79Axr2QsSy",
        "outputId": "bcb853bc-95f6-4b4b-a09b-30b4e1e016bc"
      },
      "outputs": [
        {
          "output_type": "stream",
          "name": "stdout",
          "text": [
            "Введите вещественное число: 2\n",
            "4\n"
          ]
        }
      ],
      "source": [
        "a = float(input('Введите вещественное число: '))\n",
        "\n",
        "n = 1 \n",
        "b_sum = list() \n",
        "b_sum.append(n) \n",
        "\n",
        "while sum(b_sum)<=a: \n",
        "    n = n+1\n",
        "    j = 1/n\n",
        "    b_sum.append(j) \n",
        "\n",
        "print(n)\n",
        "# --------------\n",
        "# Пример вывода:\n",
        "#\n",
        "# a = 1.5\n",
        "# n = 3\n",
        "#\n",
        "# a = 2\n",
        "# n = 4"
      ]
    },
    {
      "cell_type": "markdown",
      "metadata": {
        "id": "RYa3wV1rQsox"
      },
      "source": [
        "# №4.2.10\n",
        "Дано натуральное число. Определите сумму и количество его цифр."
      ]
    },
    {
      "cell_type": "code",
      "execution_count": null,
      "metadata": {
        "colab": {
          "base_uri": "https://localhost:8080/"
        },
        "id": "b8omJRtDQsoy",
        "outputId": "720ed0ff-ce7f-4a41-9cc8-0832434675da"
      },
      "outputs": [
        {
          "name": "stdout",
          "output_type": "stream",
          "text": [
            "n=12345\n",
            "Сумма= 15\n",
            "Количество= 5\n"
          ]
        }
      ],
      "source": [
        "n = int(input(\"n=\"))\n",
        "\n",
        "num= 0\n",
        "summ = 0\n",
        "\n",
        "while(n): \n",
        "   num = num + 1\n",
        "   summ = summ + n % 10\n",
        "   n = n // 10\n",
        "print('Сумма=',summ)\n",
        "print('Количество=',num)\n",
        "# --------------\n",
        "# Пример вывода:\n",
        "#\n",
        "# n = 12345\n",
        "# Сумма = 15\n",
        "# Количество = 5\n",
        "\n"
      ]
    },
    {
      "cell_type": "markdown",
      "metadata": {
        "id": "MrPxqzkT8jLZ"
      },
      "source": [
        "# №4.2.12\n",
        "Вывести в строку 10 первых натуральных чисел, оканчивающихся на цифру k, кратных числу s и находящихся в интервале, левая граница которого равна start."
      ]
    },
    {
      "cell_type": "code",
      "execution_count": null,
      "metadata": {
        "colab": {
          "base_uri": "https://localhost:8080/"
        },
        "id": "BZ8wTUQf8_X4",
        "outputId": "37d64980-2c68-4002-980b-947209faf871"
      },
      "outputs": [
        {
          "name": "stdout",
          "output_type": "stream",
          "text": [
            "Введите первое число: 1\n",
            "Введите второе число: 5\n",
            "[1, 2, 3, 4, 5]\n",
            "5\n",
            "4\n",
            "3\n",
            "2\n",
            "1\n"
          ]
        }
      ],
      "source": [
        "a = int(input('Введите первое число: '))\n",
        "b = int(input('Введите второе число: '))\n",
        "\n",
        "ls = list(range(a,b+1,1))\n",
        "print(ls)\n",
        "\n",
        "\n",
        "ls.reverse()\n",
        "print(\"\\n\".join(map(str, ls)))\n",
        "# --------------\n",
        "# Пример вывода:\n",
        "#\n",
        "# a = 1\n",
        "# b = 5\n",
        "# 1 2 3 4 5\n",
        "# 5\n",
        "# 4\n",
        "# 3\n",
        "# 2\n",
        "# 1"
      ]
    },
    {
      "cell_type": "markdown",
      "metadata": {
        "id": "0E9vtXLW8k_o"
      },
      "source": [
        "# №4.2.14\n",
        "Начав тренировки, лыжник в первый день пробежал s км. (s>0, вещественное число). Каждый следующий день он увеличивал пробег на p % (0<p≤100, вещественное число) от пробега предыдущего дня. Определите:\n",
        "\n",
        "пробег лыжника за второй, третий, …, десятый день тренировок;\n",
        "\n",
        "какой суммарный путь он пробежал за первые 10 дней тренировок.\n",
        "\n",
        "При выводе вещественных результатов оставьте один знак после запятой."
      ]
    },
    {
      "cell_type": "code",
      "execution_count": null,
      "metadata": {
        "colab": {
          "base_uri": "https://localhost:8080/"
        },
        "id": "LoHcdy8a89Xe",
        "outputId": "fdd1781c-a367-4566-d159-0f71e67620c0"
      },
      "outputs": [
        {
          "output_type": "stream",
          "name": "stdout",
          "text": [
            "Введите кол-во км в первый день: 5\n",
            "Введите процент увеличения нагрузки: 10\n",
            "Пробег за 2 день:  5.5 км.\n",
            "Пробег за 3 день:  6.1 км.\n",
            "Пробег за 4 день:  6.7 км.\n",
            "Пробег за 5 день:  7.3 км.\n",
            "Пробег за 6 день:  8.1 км.\n",
            "Пробег за 7 день:  8.9 км.\n",
            "Пробег за 8 день:  9.7 км.\n",
            "Пробег за 9 день:  10.7 км.\n",
            "Пробег за 10 день:  11.8 км.\n",
            "Суммарный пробег:  79.7\n"
          ]
        }
      ],
      "source": [
        "s = float(input('Введите кол-во км в первый день: '))\n",
        "p = float(input('Введите процент увеличения нагрузки: '))\n",
        "\n",
        "tot = list() \n",
        "tot.append(s) \n",
        "\n",
        "j = 0 \n",
        "h = 1\n",
        "for i in range(9): \n",
        "    s = ((s*(p/100))+s)+0.0001\n",
        "    h += 1\n",
        "    tot.append(s)\n",
        "    print('Пробег за',h,'день: ', round(s,1), 'км.')\n",
        "\n",
        "total = sum(tot)\n",
        "print(\"Суммарный пробег: \", round(total,1))\n",
        "# --------------\n",
        "# Пример вывода:\n",
        "#\n",
        "# Пробег за 1-й день (км.) = 5\n",
        "# На сколько увеличивает пробег (%) = 10\n",
        "# Пробег за 2-й день: 5.5 км.\n",
        "# Пробег за 3-й день: 6.1 км.\n",
        "# Пробег за 4-й день: 6.7 км.\n",
        "# Пробег за 5-й день: 7.3 км.\n",
        "# Пробег за 6-й день: 8.1 км.\n",
        "# Пробег за 7-й день: 8.9 км.\n",
        "# Пробег за 8-й день: 9.7 км.\n",
        "# Пробег за 9-й день: 10.7 км.\n",
        "# Пробег за 10-й день: 11.8 км.\n",
        "# Суммарный пробег: 79.7 км."
      ]
    },
    {
      "cell_type": "markdown",
      "metadata": {
        "id": "KuBQEA0f8lOk"
      },
      "source": [
        "# №4.2.15\n",
        "Известна масса каждого предмета в кг., загружаемого в грузовик. Определить, возможна ли перевозка груза, если грузоподъемность грузовика равна p кг."
      ]
    },
    {
      "cell_type": "code",
      "execution_count": null,
      "metadata": {
        "colab": {
          "base_uri": "https://localhost:8080/"
        },
        "id": "3d95x7bA88qA",
        "outputId": "4247da0e-3f99-4458-95f1-7c56d199dc3d"
      },
      "outputs": [
        {
          "output_type": "stream",
          "name": "stdout",
          "text": [
            "грузоподъемность грузовика (кг.): 10\n",
            "количество предметов (шт.): 2\n",
            "Введите массу предмета (кг.): 3\n",
            "Введите массу предмета (кг.): 3\n",
            "Да.\n"
          ]
        }
      ],
      "source": [
        "p = int(input('грузоподъемность грузовика (кг.): '))\n",
        "n = int(input('количество предметов (шт.): '))\n",
        "\n",
        "amount = list()\n",
        "for i in range(n):\n",
        "    g = int(input('Введите массу предмета (кг.): '))\n",
        "    amount.append(g)\n",
        "if sum(amount)>=p: \n",
        "    print('Нет.')\n",
        "else:\n",
        "    print('Да.')\n",
        "# --------------\n",
        "# Пример вывода:\n",
        "#\n",
        "# Грузоподъемность грузовика (кг.) = 10\n",
        "# Количество предметов = 2\n",
        "# Масса 1-го предмета (кг.) = 3\n",
        "# Масса 2-го предмета (кг.) = 3\n",
        "# Да"
      ]
    },
    {
      "cell_type": "markdown",
      "metadata": {
        "id": "eltzvwmF8lav"
      },
      "source": [
        "# №4.2.16\n",
        "В области несколько районов. Заданы площади, засеваемые пшеницей (га.), и средняя урожайность (ц/га) в каждом районе.\n",
        "\n",
        "Определите количество пшеницы, собранное по области. При выводе вещественных результатов оставьте один знак после запятой."
      ]
    },
    {
      "cell_type": "code",
      "execution_count": null,
      "metadata": {
        "colab": {
          "base_uri": "https://localhost:8080/"
        },
        "id": "EDc0Dvse87Hz",
        "outputId": "e4f68127-7bfc-4a86-e2dc-2c1412c62fb8"
      },
      "outputs": [
        {
          "output_type": "stream",
          "name": "stdout",
          "text": [
            " кол-во районов: 3\n",
            "Введите площадь района (га): 4\n",
            "Введите урожайность в районе (ц/га.): 2\n",
            "Введите площадь района (га): 7\n",
            "Введите урожайность в районе (ц/га.): 3\n",
            "Введите площадь района (га): 9\n",
            "Введите урожайность в районе (ц/га.): 4\n",
            "65.0\n"
          ]
        }
      ],
      "source": [
        "n = int(input(' кол-во районов: '))\n",
        "\n",
        "total = list() \n",
        "for i in range(n):\n",
        "    s = float(input('Введите площадь района (га): '))\n",
        "    p = float(input('Введите урожайность в районе (ц/га.): ')) \n",
        "    j = p*s\n",
        "    total.append(j)\n",
        "\n",
        "print(round(sum(total), 1))\n",
        "\n",
        "# --------------\n",
        "# Пример вывода:\n",
        "#\n",
        "# Количество районов = 3\n",
        "# Площадь 1-го района (га) = 4\n",
        "# Урожайность в 1-м районе (ц/га.) = 2\n",
        "# Площадь 2-го района (га) = 7\n",
        "# Урожайность в 2-м районе (ц/га.) = 3\n",
        "# Площадь 3-го района (га) = 9\n",
        "# Урожайность в 3-м районе (ц/га.) = 4\n",
        "# Собрано пшеницы: 65.0 ц.\n"
      ]
    },
    {
      "cell_type": "markdown",
      "metadata": {
        "id": "BFhK5Bn18lnq"
      },
      "source": [
        "# №4.2.17\n",
        "Решите задачу № 4.2.7, организовав бесконечный цикл, который бы прерывался при выполнении условия, используя оператор break."
      ]
    },
    {
      "cell_type": "code",
      "execution_count": null,
      "metadata": {
        "colab": {
          "base_uri": "https://localhost:8080/"
        },
        "id": "iaELU3Qn86jM",
        "outputId": "71ba9db9-0f5c-4ff9-fb3e-a7609e7f211b"
      },
      "outputs": [
        {
          "output_type": "stream",
          "name": "stdout",
          "text": [
            "Введите число. 1\n",
            "Введите новое число. 2\n",
            "Введите новое число. 3\n",
            "Введите новое число. 4\n",
            "Введите новое число. 0\n",
            "Сумма =  10\n",
            "Количество =  4\n"
          ]
        }
      ],
      "source": [
        "nums_sum = 0  #сумма\n",
        "nums_count = 0  #кол-во\n",
        "\n",
        "a = int(input('Введите число. '))\n",
        "b = list()\n",
        "\n",
        "while a!=0:\n",
        "    nums_count = nums_count+1\n",
        "    b.append(a)\n",
        "    nums_sum = nums_sum+a\n",
        "    a = int(input('Введите новое число. '))\n",
        "    if a==0:\n",
        "        break\n",
        "\n",
        "print('Сумма = ', nums_sum)\n",
        "print('Количество = ',nums_count)\n",
        "\n",
        "# --------------\n",
        "# Пример вывода:\n",
        "#\n",
        "# Введите 1-е число: 1\n",
        "# Введите 2-е число: 2\n",
        "# Введите 3-е число: 3\n",
        "# Введите 4-е число: 4\n",
        "# Введите 5-е число: 0\n",
        "# Сумма = 10\n",
        "# Количество = 4\n",
        "#\n",
        "# Введите 1-е число: 0\n",
        "# Сумма = 0\n",
        "# Количество = 0"
      ]
    },
    {
      "cell_type": "markdown",
      "metadata": {
        "id": "J_5yjUVl8l_e"
      },
      "source": [
        "# №4.2.19\n",
        "Выведите на экран (в строку) все целые числа от a до b, кратные некоторому числу c.\n"
      ]
    },
    {
      "cell_type": "code",
      "execution_count": null,
      "metadata": {
        "colab": {
          "base_uri": "https://localhost:8080/"
        },
        "id": "OQv0BI1W800e",
        "outputId": "d13b668f-f2ff-4423-db34-ff8ee2331093"
      },
      "outputs": [
        {
          "output_type": "stream",
          "name": "stdout",
          "text": [
            "a=1\n",
            "b=10\n",
            "c=2\n",
            "2 4 6 8 10 "
          ]
        }
      ],
      "source": [
        "a=int(input(\"a=\"))\n",
        "b=int(input(\"b=\"))\n",
        "c=int(input(\"c=\"))\n",
        "for i in range(a,b+1):\n",
        "    if i%c==0:\n",
        "        print(i,end=\" \")\n",
        "# Удалите комментарий и допишите код\n",
        "\n",
        "# --------------\n",
        "# Пример вывода:\n",
        "#\n",
        "# a = 1\n",
        "# b = 10\n",
        "# c = 2\n",
        "# 2 4 6 8 10\n",
        "\n"
      ]
    },
    {
      "cell_type": "markdown",
      "metadata": {
        "id": "c7dBkChNGRHt"
      },
      "source": [
        "# №4.2.20\n",
        "\n",
        "Выведите на экран (в строку) все трехзначные натуральные числа, сумма цифр которых равна целому числу n (0<n≤27)."
      ]
    },
    {
      "cell_type": "code",
      "execution_count": null,
      "metadata": {
        "colab": {
          "base_uri": "https://localhost:8080/"
        },
        "id": "r9awn0qYGZXM",
        "outputId": "27a5007e-d93e-4b33-b9ed-738051148d24"
      },
      "outputs": [
        {
          "output_type": "stream",
          "name": "stdout",
          "text": [
            "3\n",
            "102 111 120 201 210 300 "
          ]
        }
      ],
      "source": [
        "n = int(input())\n",
        "for i in range(100, 1000):\n",
        "    b = sum(int(s) for s in str(i)) \n",
        "    if b == n:\n",
        "        print(i,end=\" \")\n",
        "# Удалите комментарий и допишите код\n",
        "# --------------\n",
        "# Пример вывода:\n",
        "#\n",
        "# n = 3\n",
        "# 102 111 120 201 210 300\n"
      ]
    },
    {
      "cell_type": "markdown",
      "metadata": {
        "id": "tmzTuiQ8JNab"
      },
      "source": [
        "# №4.2.21\n",
        "Известно количество учеников в классе и их рост (см.); рост мальчиков условно задан отрицательными числами. Определите средний рост мальчиков и средний рост девочек.\n",
        "\n",
        "При выводе вещественных результатов оставьте один знак после запятой."
      ]
    },
    {
      "cell_type": "code",
      "execution_count": null,
      "metadata": {
        "colab": {
          "base_uri": "https://localhost:8080/"
        },
        "id": "CbCJuKmhJ3hW",
        "outputId": "1d99db93-19e0-4c78-e822-ba78db07cf40"
      },
      "outputs": [
        {
          "name": "stdout",
          "output_type": "stream",
          "text": [
            "n= 5\n",
            "Рост 1-го ученика=150\n",
            "Рост 2-го ученика=-150\n",
            "Рост 3-го ученика=160\n",
            "Рост 4-го ученика=170\n",
            "Рост 5-го ученика=180\n",
            "Средний рост мальчиков: 150.0\n",
            "Средний рост девочек: 165.0\n"
          ]
        }
      ],
      "source": [
        "n = int(input(\"n= \"))\n",
        "b=0\n",
        "rm = 0\n",
        "rd = 0\n",
        "i=1\n",
        "while i <=n:\n",
        "    r=int(input(\"Рост \"+ str(i) + \"-го ученика=\"))\n",
        "    i+=1\n",
        "    if r <0 :\n",
        "        b+=1\n",
        "        rm -= r\n",
        "    else :\n",
        "        rd += r\n",
        "r_sr_m= rm / b \n",
        "r_sr_d = rd / (n - b)\n",
        "\n",
        "# Удалите комментарий и допишите код\n",
        "\n",
        "print(\"Средний рост мальчиков: {:.1f}\".format(r_sr_m))\n",
        "print(\"Средний рост девочек: {:.1f}\".format(r_sr_d))\n",
        "\n",
        "# --------------\n",
        "# Пример вывода:\n",
        "#\n",
        "# n = 5\n",
        "# Рост 1-го ученика = 150\n",
        "# Рост 2-го ученика = -150\n",
        "# Рост 3-го ученика = 160\n",
        "# Рост 4-го ученика = 170\n",
        "# Рост 5-го ученика = 180\n",
        "# Средний рост мальчиков: 150.0\n",
        "# Средний рост девочек: 165.0\n"
      ]
    },
    {
      "cell_type": "markdown",
      "metadata": {
        "id": "4J_w5sS2JnwQ"
      },
      "source": [
        "# №4.2.22\n",
        "Даны n вещественных чисел. Определите максимальное и минимальное из них.\n",
        "\n",
        "При выводе вещественных результатов оставьте два знака после запятой."
      ]
    },
    {
      "cell_type": "code",
      "execution_count": null,
      "metadata": {
        "colab": {
          "base_uri": "https://localhost:8080/"
        },
        "id": "XxjSI_PrJ1NO",
        "outputId": "79c9ce30-be18-416c-e6cd-12aa310b6a14"
      },
      "outputs": [
        {
          "name": "stdout",
          "output_type": "stream",
          "text": [
            "n=4\n",
            "99999\n",
            "1-е число = 6.2\n",
            "2-е число = 3.8\n",
            "3-е число = 1.1\n",
            "4-е число = 9.66\n",
            "Максимум: 9.66\n",
            "Минимум: 1.10\n"
          ]
        }
      ],
      "source": [
        "n = int(input(\"n=\"))\n",
        "a=float(input())\n",
        "max=min=a\n",
        "i=1\n",
        "while i <=n:\n",
        "    r=float(input(str(i) + \"-е число = \"))\n",
        "    i+=1\n",
        "    if r<=max and r>min:\n",
        "      max=r\n",
        "    if r<max and r<min:\n",
        "      min=r\n",
        "print(\"Максимум: {:.2f}\".format(max))\n",
        "print(\"Минимум: {:.2f}\".format(min))\n",
        "\n",
        "# --------------\n",
        "# Пример вывода:\n",
        "#\n",
        "# n = 4\n",
        "# 1-е число = 6.2\n",
        "# 2-е число = 3.8\n",
        "# 3-е число = 1.1\n",
        "# 4-е число = 9.66\n",
        "# Максимум: 9.66\n",
        "# Минимум: 1.10\n",
        "\n"
      ]
    },
    {
      "cell_type": "markdown",
      "metadata": {
        "id": "l5FIoXOyJoCG"
      },
      "source": [
        "# №4.2.23\n",
        "Дано натуральное число n. Определите, является ли оно членом последовательности Фибоначчи ."
      ]
    },
    {
      "cell_type": "code",
      "execution_count": null,
      "metadata": {
        "colab": {
          "base_uri": "https://localhost:8080/"
        },
        "id": "kEdd8VjWJyZP",
        "outputId": "01c9608a-3fc2-4e5c-c9b0-8fd05f604c79"
      },
      "outputs": [
        {
          "name": "stdout",
          "output_type": "stream",
          "text": [
            "n=8\n",
            "является.\n"
          ]
        }
      ],
      "source": [
        "n = int(input('n='))\n",
        "fib1 = 1\n",
        "fib2 = 1\n",
        "a = 1\n",
        "while n!=fib1:\n",
        "    if n<fib1:\n",
        "        print('не является.')\n",
        "        break\n",
        "    else:\n",
        "        a = fib1\n",
        "        fib1 += fib2\n",
        "        fib2 = a\n",
        "else:\n",
        "    print('является.')\n",
        "# --------------\n",
        "# Пример вывода:\n",
        "#\n",
        "# n = 7\n",
        "# Не является\n",
        "#\n",
        "# n = 8\n",
        "# Является"
      ]
    },
    {
      "cell_type": "markdown",
      "metadata": {
        "id": "6w5RGhSjJoym"
      },
      "source": [
        "# №4.2.26\n",
        "Выведите графическое изображения делимости чисел от 1 до n (значение n вводится с клавиатуры) - в каждой строке напечатайте очередное число и столько символов *, сколько делителей у этого числа.\n",
        "\n",
        "Например, если n=4, на экране должно быть напечатано:\n",
        "![image.png](data:image/png;base64,iVBORw0KGgoAAAANSUhEUgAAAFsAAABPCAYAAACEcbkUAAADOUlEQVR4nO2cP0/bQBjGH6p+g1YCqTJTh2ZDTFU6kekGLKbOYY3MEE8EPkATJmew99C1YoiO4aYyhaVSdBsdslCKZH+KdkiQKIXGvpi3+fP8pCyRT7Z+enOx3+d8a9c/b3+tv34F8vy8+N8XsEpQtiCULQhlC0LZglC2IJQtCGULQtmCULYg7rIzjVApKJXAFh0XFxqxNLjJHiZQbeDwNEAl9yCLRCkktx5qHqCbCmE/dTr9ovLSadR2ALMNINMFBm0hMAY2VmidVxCcGkTrTmdfWATn7HFlD6odBI060GZlPyPjykamEV56iLoGvtzJ5wJB2RPWfUQH4medC3jrJ8iaU1KTaYT1BFf3v9vtwBxslXltS4ebbOIEpxFBKFsQyhaEsgWhbEEoWxDKFoSyBXGWnfZDKKXGnyJhwD/CAxuH0JnrFc0/jrItzi5q6BkDYzrwz1tIhtPHPBUepP0QqqkBrwbvNime/iwIpTyu21hhUDUItvMdOw4PIvj3w4O7fssS91hKmLMtBucVbL6ZftxT4UHaD6HaQL0RoFMdsLIfJ4Vu7uPrTg/R3ka+IZlG+MVD9Ej12jjEzccHFb9EzCB7LDp5u7w/+7JxnkZsTNFFcavsYQJ1/CBZfxeg1/WRczJZSRgeCMInSEEoWxDKFoSyBaFsQShbEMoWhLIFce5nJ3fBAcOD3DjKHi//NcbAmB6CEcODPJSwZDjFj+95+tlPv3mwsRfBvL8XHpjlbG6V8AJTC6PGYY4eNMODEhpRBQMEhgezdf3Sfoj9mzp721Mo4dYvxbeLK/hVip6G2x/kgzcP/E/5kvVVh+GBIHyCFISyBaFsQShbEMoWhLIFoWxBKFuQGWVPQoSmRu6dQ5zCgxS6ufidwJlk27iF0a6fc+sit/DAxgoqTuHtbAKT4xZ1Sxj3x/VhAvV5E70j4KQNHOZcVOn05sFkIWelUWAd+BzinkEejxAcFVm16hYe2FhBXX5ApxGgjpPVq2wbK5x6kyrLNMICle0WHqTQzTN43QCL3Mh1kG2RqBb+3vfskamB/MHsLdailb3C8D5bEIYHgrCyBaFsQShbEMoWhLIFoWxBKFsQyhbkN514sDsgVm/eAAAAAElFTkSuQmCC)"
      ]
    },
    {
      "cell_type": "code",
      "execution_count": null,
      "metadata": {
        "colab": {
          "base_uri": "https://localhost:8080/"
        },
        "id": "7BGwtX7u_ka-",
        "outputId": "2c5d0655-accf-42b8-9c29-96a4b3a4a6f0"
      },
      "outputs": [
        {
          "output_type": "stream",
          "name": "stdout",
          "text": [
            "10\n",
            "1 **\n",
            "2 **\n",
            "3 **\n",
            "4 ***\n",
            "5 **\n",
            "6 ****\n",
            "7 **\n",
            "8 ****\n",
            "9 ***\n",
            "10 ****\n"
          ]
        }
      ],
      "source": [
        "n=int(input())\n",
        "for i in range(1,n+1):\n",
        "    a=2\n",
        "    c=2\n",
        "    while(c*c<=i):\n",
        "        if i%c==0:\n",
        "            a+=1\n",
        "            b=i//c\n",
        "            if b != c:\n",
        "                a+=1\n",
        "        c+=1        \n",
        "    print(i,a*\"*\");\n",
        "# --------------\n",
        "# Пример вывода:\n",
        "#\n",
        "# n = 10\n",
        "# 1 *\n",
        "# 2 **\n",
        "# 3 **\n",
        "# 4 ***\n",
        "# 5 **\n",
        "# 6 ****\n",
        "# 7 **\n",
        "# 8 ****\n",
        "# 9 ***\n",
        "# 10 ****"
      ]
    },
    {
      "cell_type": "markdown",
      "metadata": {
        "id": "Q48tXUxtU0TA"
      },
      "source": [
        "# №4.2.28\n",
        "Составьте программу для нахождения всех натуральных решений уравнения x2+y2+z2=k2, где x,y,z∈[1,30], а k вводится с клавиатуры.\n"
      ]
    },
    {
      "cell_type": "code",
      "execution_count": null,
      "metadata": {
        "colab": {
          "base_uri": "https://localhost:8080/"
        },
        "id": "4gZJTsZcVGXa",
        "outputId": "dcb27864-766f-4279-a885-bf63c9220115"
      },
      "outputs": [
        {
          "output_type": "stream",
          "name": "stdout",
          "text": [
            "Введите число: 30\n",
            "x = 4, y = 10, z = 28\n",
            "x = 4, y = 20, z = 22\n",
            "x = 4, y = 22, z = 20\n",
            "x = 4, y = 28, z = 10\n",
            "x = 10, y = 4, z = 28\n",
            "x = 10, y = 20, z = 20\n",
            "x = 10, y = 28, z = 4\n",
            "x = 20, y = 4, z = 22\n",
            "x = 20, y = 10, z = 20\n",
            "x = 20, y = 20, z = 10\n",
            "x = 20, y = 22, z = 4\n",
            "x = 22, y = 4, z = 20\n",
            "x = 22, y = 20, z = 4\n",
            "x = 28, y = 4, z = 10\n",
            "x = 28, y = 10, z = 4\n"
          ]
        }
      ],
      "source": [
        "k= int(input('Введите число: '))\n",
        "\n",
        "for x in range(1, 31):\n",
        "    for y in range(1, 31):\n",
        "        for z in range(1, 31):\n",
        "            if ((x**2)+(y**2)+(z**2))==k**2:\n",
        "                print(f'x = {x}, y = {y}, z = {z}')\n",
        "\n",
        "# --------------\n",
        "# Пример вывода:\n",
        "#\n",
        "# k = 30\n",
        "# x =  4, y = 10, z = 28\n",
        "# x =  4, y = 20, z = 22\n",
        "# x =  4, y = 22, z = 20\n",
        "# x =  4, y = 28, z = 10\n",
        "# x = 10, y =  4, z = 28\n",
        "# x = 10, y = 20, z = 20\n",
        "# x = 10, y = 28, z =  4\n",
        "# x = 20, y =  4, z = 22\n",
        "# x = 20, y = 10, z = 20\n",
        "# x = 20, y = 20, z = 10\n",
        "# x = 20, y = 22, z =  4\n",
        "# x = 22, y =  4, z = 20\n",
        "# x = 22, y = 20, z =  4\n",
        "# x = 28, y =  4, z = 10\n",
        "# x = 28, y = 10, z =  4"
      ]
    }
  ],
  "metadata": {
    "colab": {
      "collapsed_sections": [
        "ngtU4De-5UYf",
        "d3BktptL5jXz",
        "PEBpxwLZQrbc",
        "-IqKfZUHQr1i",
        "o5HVvgcRQsSx",
        "RYa3wV1rQsox",
        "MrPxqzkT8jLZ",
        "0E9vtXLW8k_o",
        "KuBQEA0f8lOk",
        "eltzvwmF8lav",
        "BFhK5Bn18lnq",
        "J_5yjUVl8l_e",
        "c7dBkChNGRHt",
        "tmzTuiQ8JNab",
        "4J_w5sS2JnwQ",
        "l5FIoXOyJoCG"
      ],
      "provenance": [],
      "authorship_tag": "ABX9TyPVyz/N9z/R2PC5Uas8y4B+",
      "include_colab_link": true
    },
    "kernelspec": {
      "display_name": "Python 3",
      "name": "python3"
    },
    "language_info": {
      "name": "python"
    }
  },
  "nbformat": 4,
  "nbformat_minor": 0
}